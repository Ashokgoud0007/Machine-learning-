{
 "cells": [
  {
   "cell_type": "markdown",
   "id": "8da8f196-df2f-4f56-956b-e4638c988e48",
   "metadata": {},
   "source": [
    "## importing necessary libruaries"
   ]
  },
  {
   "cell_type": "code",
   "execution_count": 14,
   "id": "9c7bf8ae-615b-411c-971b-71afdd039617",
   "metadata": {},
   "outputs": [],
   "source": [
    "import pandas as pd\n",
    "import numpy as np\n",
    "import matplotlib.pyplot as plt\n",
    "import seaborn as sns\n",
    "from sklearn.model_selection import train_test_split\n",
    "from sklearn.ensemble import RandomForestRegressor\n",
    "from sklearn import metrics"
   ]
  },
  {
   "cell_type": "markdown",
   "id": "f412a322-799a-4f12-bdef-0e0616e7db2d",
   "metadata": {},
   "source": [
    "## data collection and processing"
   ]
  },
  {
   "cell_type": "code",
   "execution_count": 4,
   "id": "d1374415-326a-4c90-90e8-cd38c5c96130",
   "metadata": {},
   "outputs": [],
   "source": [
    "# loading the csv data to a pandas dataframe\n",
    "gold_dataset=pd.read_csv(r\"C:\\Users\\USER\\Downloads\\gld_price_data.csv\")"
   ]
  },
  {
   "cell_type": "code",
   "execution_count": 5,
   "id": "158a73ee-1cca-437a-989a-1e9cbf6b2e1a",
   "metadata": {},
   "outputs": [
    {
     "data": {
      "text/html": [
       "<div>\n",
       "<style scoped>\n",
       "    .dataframe tbody tr th:only-of-type {\n",
       "        vertical-align: middle;\n",
       "    }\n",
       "\n",
       "    .dataframe tbody tr th {\n",
       "        vertical-align: top;\n",
       "    }\n",
       "\n",
       "    .dataframe thead th {\n",
       "        text-align: right;\n",
       "    }\n",
       "</style>\n",
       "<table border=\"1\" class=\"dataframe\">\n",
       "  <thead>\n",
       "    <tr style=\"text-align: right;\">\n",
       "      <th></th>\n",
       "      <th>Date</th>\n",
       "      <th>SPX</th>\n",
       "      <th>GLD</th>\n",
       "      <th>USO</th>\n",
       "      <th>SLV</th>\n",
       "      <th>EUR/USD</th>\n",
       "    </tr>\n",
       "  </thead>\n",
       "  <tbody>\n",
       "    <tr>\n",
       "      <th>0</th>\n",
       "      <td>1/2/2008</td>\n",
       "      <td>1447.160034</td>\n",
       "      <td>84.860001</td>\n",
       "      <td>78.470001</td>\n",
       "      <td>15.180</td>\n",
       "      <td>1.471692</td>\n",
       "    </tr>\n",
       "    <tr>\n",
       "      <th>1</th>\n",
       "      <td>1/3/2008</td>\n",
       "      <td>1447.160034</td>\n",
       "      <td>85.570000</td>\n",
       "      <td>78.370003</td>\n",
       "      <td>15.285</td>\n",
       "      <td>1.474491</td>\n",
       "    </tr>\n",
       "    <tr>\n",
       "      <th>2</th>\n",
       "      <td>1/4/2008</td>\n",
       "      <td>1411.630005</td>\n",
       "      <td>85.129997</td>\n",
       "      <td>77.309998</td>\n",
       "      <td>15.167</td>\n",
       "      <td>1.475492</td>\n",
       "    </tr>\n",
       "    <tr>\n",
       "      <th>3</th>\n",
       "      <td>1/7/2008</td>\n",
       "      <td>1416.180054</td>\n",
       "      <td>84.769997</td>\n",
       "      <td>75.500000</td>\n",
       "      <td>15.053</td>\n",
       "      <td>1.468299</td>\n",
       "    </tr>\n",
       "    <tr>\n",
       "      <th>4</th>\n",
       "      <td>1/8/2008</td>\n",
       "      <td>1390.189941</td>\n",
       "      <td>86.779999</td>\n",
       "      <td>76.059998</td>\n",
       "      <td>15.590</td>\n",
       "      <td>1.557099</td>\n",
       "    </tr>\n",
       "  </tbody>\n",
       "</table>\n",
       "</div>"
      ],
      "text/plain": [
       "       Date          SPX        GLD        USO     SLV   EUR/USD\n",
       "0  1/2/2008  1447.160034  84.860001  78.470001  15.180  1.471692\n",
       "1  1/3/2008  1447.160034  85.570000  78.370003  15.285  1.474491\n",
       "2  1/4/2008  1411.630005  85.129997  77.309998  15.167  1.475492\n",
       "3  1/7/2008  1416.180054  84.769997  75.500000  15.053  1.468299\n",
       "4  1/8/2008  1390.189941  86.779999  76.059998  15.590  1.557099"
      ]
     },
     "execution_count": 5,
     "metadata": {},
     "output_type": "execute_result"
    }
   ],
   "source": [
    "# print first 5 rows in datafrsme\n",
    "gold_dataset.head()"
   ]
  },
  {
   "cell_type": "code",
   "execution_count": 6,
   "id": "9ee09910-60ec-4eeb-bd58-851a9f3a0341",
   "metadata": {},
   "outputs": [
    {
     "data": {
      "text/html": [
       "<div>\n",
       "<style scoped>\n",
       "    .dataframe tbody tr th:only-of-type {\n",
       "        vertical-align: middle;\n",
       "    }\n",
       "\n",
       "    .dataframe tbody tr th {\n",
       "        vertical-align: top;\n",
       "    }\n",
       "\n",
       "    .dataframe thead th {\n",
       "        text-align: right;\n",
       "    }\n",
       "</style>\n",
       "<table border=\"1\" class=\"dataframe\">\n",
       "  <thead>\n",
       "    <tr style=\"text-align: right;\">\n",
       "      <th></th>\n",
       "      <th>Date</th>\n",
       "      <th>SPX</th>\n",
       "      <th>GLD</th>\n",
       "      <th>USO</th>\n",
       "      <th>SLV</th>\n",
       "      <th>EUR/USD</th>\n",
       "    </tr>\n",
       "  </thead>\n",
       "  <tbody>\n",
       "    <tr>\n",
       "      <th>2285</th>\n",
       "      <td>5/8/2018</td>\n",
       "      <td>2671.919922</td>\n",
       "      <td>124.589996</td>\n",
       "      <td>14.0600</td>\n",
       "      <td>15.5100</td>\n",
       "      <td>1.186789</td>\n",
       "    </tr>\n",
       "    <tr>\n",
       "      <th>2286</th>\n",
       "      <td>5/9/2018</td>\n",
       "      <td>2697.790039</td>\n",
       "      <td>124.330002</td>\n",
       "      <td>14.3700</td>\n",
       "      <td>15.5300</td>\n",
       "      <td>1.184722</td>\n",
       "    </tr>\n",
       "    <tr>\n",
       "      <th>2287</th>\n",
       "      <td>5/10/2018</td>\n",
       "      <td>2723.070068</td>\n",
       "      <td>125.180000</td>\n",
       "      <td>14.4100</td>\n",
       "      <td>15.7400</td>\n",
       "      <td>1.191753</td>\n",
       "    </tr>\n",
       "    <tr>\n",
       "      <th>2288</th>\n",
       "      <td>5/14/2018</td>\n",
       "      <td>2730.129883</td>\n",
       "      <td>124.489998</td>\n",
       "      <td>14.3800</td>\n",
       "      <td>15.5600</td>\n",
       "      <td>1.193118</td>\n",
       "    </tr>\n",
       "    <tr>\n",
       "      <th>2289</th>\n",
       "      <td>5/16/2018</td>\n",
       "      <td>2725.780029</td>\n",
       "      <td>122.543800</td>\n",
       "      <td>14.4058</td>\n",
       "      <td>15.4542</td>\n",
       "      <td>1.182033</td>\n",
       "    </tr>\n",
       "  </tbody>\n",
       "</table>\n",
       "</div>"
      ],
      "text/plain": [
       "           Date          SPX         GLD      USO      SLV   EUR/USD\n",
       "2285   5/8/2018  2671.919922  124.589996  14.0600  15.5100  1.186789\n",
       "2286   5/9/2018  2697.790039  124.330002  14.3700  15.5300  1.184722\n",
       "2287  5/10/2018  2723.070068  125.180000  14.4100  15.7400  1.191753\n",
       "2288  5/14/2018  2730.129883  124.489998  14.3800  15.5600  1.193118\n",
       "2289  5/16/2018  2725.780029  122.543800  14.4058  15.4542  1.182033"
      ]
     },
     "execution_count": 6,
     "metadata": {},
     "output_type": "execute_result"
    }
   ],
   "source": [
    "# print last 5 rows in the dataframe\n",
    "gold_dataset.tail()"
   ]
  },
  {
   "cell_type": "code",
   "execution_count": 7,
   "id": "cdde4def-afdd-46b2-b305-dd31dee278e0",
   "metadata": {},
   "outputs": [
    {
     "name": "stdout",
     "output_type": "stream",
     "text": [
      "<class 'pandas.core.frame.DataFrame'>\n",
      "RangeIndex: 2290 entries, 0 to 2289\n",
      "Data columns (total 6 columns):\n",
      " #   Column   Non-Null Count  Dtype  \n",
      "---  ------   --------------  -----  \n",
      " 0   Date     2290 non-null   object \n",
      " 1   SPX      2290 non-null   float64\n",
      " 2   GLD      2290 non-null   float64\n",
      " 3   USO      2290 non-null   float64\n",
      " 4   SLV      2290 non-null   float64\n",
      " 5   EUR/USD  2290 non-null   float64\n",
      "dtypes: float64(5), object(1)\n",
      "memory usage: 107.5+ KB\n"
     ]
    }
   ],
   "source": [
    "# getting some absic information \n",
    "gold_dataset.info()"
   ]
  },
  {
   "cell_type": "code",
   "execution_count": 8,
   "id": "355b48e2-e50a-4926-9153-a51183c4361b",
   "metadata": {},
   "outputs": [
    {
     "data": {
      "text/plain": [
       "Date       0\n",
       "SPX        0\n",
       "GLD        0\n",
       "USO        0\n",
       "SLV        0\n",
       "EUR/USD    0\n",
       "dtype: int64"
      ]
     },
     "execution_count": 8,
     "metadata": {},
     "output_type": "execute_result"
    }
   ],
   "source": [
    "# checking the number of missing values\n",
    "gold_dataset.isnull().sum()"
   ]
  },
  {
   "cell_type": "code",
   "execution_count": 9,
   "id": "b6dc0d13-9ea3-4f04-ba11-fa2399bb2e43",
   "metadata": {},
   "outputs": [
    {
     "data": {
      "text/html": [
       "<div>\n",
       "<style scoped>\n",
       "    .dataframe tbody tr th:only-of-type {\n",
       "        vertical-align: middle;\n",
       "    }\n",
       "\n",
       "    .dataframe tbody tr th {\n",
       "        vertical-align: top;\n",
       "    }\n",
       "\n",
       "    .dataframe thead th {\n",
       "        text-align: right;\n",
       "    }\n",
       "</style>\n",
       "<table border=\"1\" class=\"dataframe\">\n",
       "  <thead>\n",
       "    <tr style=\"text-align: right;\">\n",
       "      <th></th>\n",
       "      <th>SPX</th>\n",
       "      <th>GLD</th>\n",
       "      <th>USO</th>\n",
       "      <th>SLV</th>\n",
       "      <th>EUR/USD</th>\n",
       "    </tr>\n",
       "  </thead>\n",
       "  <tbody>\n",
       "    <tr>\n",
       "      <th>count</th>\n",
       "      <td>2290.000000</td>\n",
       "      <td>2290.000000</td>\n",
       "      <td>2290.000000</td>\n",
       "      <td>2290.000000</td>\n",
       "      <td>2290.000000</td>\n",
       "    </tr>\n",
       "    <tr>\n",
       "      <th>mean</th>\n",
       "      <td>1654.315776</td>\n",
       "      <td>122.732875</td>\n",
       "      <td>31.842221</td>\n",
       "      <td>20.084997</td>\n",
       "      <td>1.283653</td>\n",
       "    </tr>\n",
       "    <tr>\n",
       "      <th>std</th>\n",
       "      <td>519.111540</td>\n",
       "      <td>23.283346</td>\n",
       "      <td>19.523517</td>\n",
       "      <td>7.092566</td>\n",
       "      <td>0.131547</td>\n",
       "    </tr>\n",
       "    <tr>\n",
       "      <th>min</th>\n",
       "      <td>676.530029</td>\n",
       "      <td>70.000000</td>\n",
       "      <td>7.960000</td>\n",
       "      <td>8.850000</td>\n",
       "      <td>1.039047</td>\n",
       "    </tr>\n",
       "    <tr>\n",
       "      <th>25%</th>\n",
       "      <td>1239.874969</td>\n",
       "      <td>109.725000</td>\n",
       "      <td>14.380000</td>\n",
       "      <td>15.570000</td>\n",
       "      <td>1.171313</td>\n",
       "    </tr>\n",
       "    <tr>\n",
       "      <th>50%</th>\n",
       "      <td>1551.434998</td>\n",
       "      <td>120.580002</td>\n",
       "      <td>33.869999</td>\n",
       "      <td>17.268500</td>\n",
       "      <td>1.303297</td>\n",
       "    </tr>\n",
       "    <tr>\n",
       "      <th>75%</th>\n",
       "      <td>2073.010070</td>\n",
       "      <td>132.840004</td>\n",
       "      <td>37.827501</td>\n",
       "      <td>22.882500</td>\n",
       "      <td>1.369971</td>\n",
       "    </tr>\n",
       "    <tr>\n",
       "      <th>max</th>\n",
       "      <td>2872.870117</td>\n",
       "      <td>184.589996</td>\n",
       "      <td>117.480003</td>\n",
       "      <td>47.259998</td>\n",
       "      <td>1.598798</td>\n",
       "    </tr>\n",
       "  </tbody>\n",
       "</table>\n",
       "</div>"
      ],
      "text/plain": [
       "               SPX          GLD          USO          SLV      EUR/USD\n",
       "count  2290.000000  2290.000000  2290.000000  2290.000000  2290.000000\n",
       "mean   1654.315776   122.732875    31.842221    20.084997     1.283653\n",
       "std     519.111540    23.283346    19.523517     7.092566     0.131547\n",
       "min     676.530029    70.000000     7.960000     8.850000     1.039047\n",
       "25%    1239.874969   109.725000    14.380000    15.570000     1.171313\n",
       "50%    1551.434998   120.580002    33.869999    17.268500     1.303297\n",
       "75%    2073.010070   132.840004    37.827501    22.882500     1.369971\n",
       "max    2872.870117   184.589996   117.480003    47.259998     1.598798"
      ]
     },
     "execution_count": 9,
     "metadata": {},
     "output_type": "execute_result"
    }
   ],
   "source": [
    "# gettingthe statistics measures of the data\n",
    "gold_dataset.describe()"
   ]
  },
  {
   "cell_type": "markdown",
   "id": "8043955e-6b5b-454d-bc11-c8e937375b48",
   "metadata": {},
   "source": [
    "## correlation :\n",
    "### 1.positive correlation\n",
    "### 2.negative correlation"
   ]
  },
  {
   "cell_type": "code",
   "execution_count": 17,
   "id": "430c11b6-6400-407c-937d-d6ae021aa8fe",
   "metadata": {},
   "outputs": [
    {
     "name": "stdout",
     "output_type": "stream",
     "text": [
      "              SPX       GLD       USO       SLV   EUR/USD\n",
      "SPX      1.000000  0.049345 -0.591573 -0.274055 -0.672017\n",
      "GLD      0.049345  1.000000 -0.186360  0.866632 -0.024375\n",
      "USO     -0.591573 -0.186360  1.000000  0.167547  0.829317\n",
      "SLV     -0.274055  0.866632  0.167547  1.000000  0.321631\n",
      "EUR/USD -0.672017 -0.024375  0.829317  0.321631  1.000000\n"
     ]
    }
   ],
   "source": [
    "# Convert date strings to datetime objects\n",
    "gold_dataset['Date'] = pd.to_datetime(gold_dataset['Date'], errors='coerce')\n",
    "gold_dataset_numeric = gold_dataset.select_dtypes(include=[np.number])\n",
    "\n",
    "gold_dataset_numeric = gold_dataset_numeric.dropna()  # Drop rows with missing values\n",
    "correlation = gold_dataset_numeric.corr()\n",
    "print(correlation)"
   ]
  },
  {
   "cell_type": "code",
   "execution_count": 30,
   "id": "00d03ad6-714e-4207-97c7-b8ef76e71927",
   "metadata": {},
   "outputs": [
    {
     "data": {
      "image/png": "[encoded data removed]",
      "text/plain": [
       "<Figure size 800x800 with 2 Axes>"
      ]
     },
     "metadata": {},
     "output_type": "display_data"
    }
   ],
   "source": [
    "# constructing a heatmap to understand the correlation\n",
    "plt.figure(figsize=(8,8))\n",
    "sns.heatmap(correlation,\n",
    "            annot=True,            # Show correlation values\n",
    "            fmt=\".4f\",            # Format for the annotation\n",
    "            cmap='coolwarm',      # Color palette\n",
    "            square=True,          # Make cells square-shaped\n",
    "            cbar_kws={\"shrink\": .8},  # Color bar size\n",
    "            linewidths=0.5,      # Lines between cells\n",
    "            linecolor='black')\n",
    "\n",
    "plt.title('Correlation Heatmap', fontsize=16)\n",
    "\n",
    "# Show the heatmap\n",
    "plt.show()"
   ]
  },
  {
   "cell_type": "code",
   "execution_count": 31,
   "id": "4e1e505e-6dc6-4bb4-a8a5-a2ad0bfd02dc",
   "metadata": {},
   "outputs": [
    {
     "name": "stdout",
     "output_type": "stream",
     "text": [
      "SPX        0.049345\n",
      "GLD        1.000000\n",
      "USO       -0.186360\n",
      "SLV        0.866632\n",
      "EUR/USD   -0.024375\n",
      "Name: GLD, dtype: float64\n"
     ]
    }
   ],
   "source": [
    "# correlation values of gld\n",
    "print(correlation['GLD'])"
   ]
  },
  {
   "cell_type": "code",
   "execution_count": 32,
   "id": "245bd50a-d50f-4a87-9206-c639bd07dcc3",
   "metadata": {},
   "outputs": [
    {
     "name": "stderr",
     "output_type": "stream",
     "text": [
      "C:\\Users\\USER\\AppData\\Local\\Temp\\ipykernel_10148\\3085787189.py:2: UserWarning: \n",
      "\n",
      "`distplot` is a deprecated function and will be removed in seaborn v0.14.0.\n",
      "\n",
      "Please adapt your code to use either `displot` (a figure-level function with\n",
      "similar flexibility) or `histplot` (an axes-level function for histograms).\n",
      "\n",
      "For a guide to updating your code to use the new functions, please see\n",
      "https://gist.github.com/mwaskom/de44147ed2974457ad6372750bbe5751\n",
      "\n",
      "  sns.distplot(gold_dataset['GLD'],color='green')\n",
      "C:\\Users\\USER\\anaconda3\\Lib\\site-packages\\seaborn\\_oldcore.py:1119: FutureWarning: use_inf_as_na option is deprecated and will be removed in a future version. Convert inf values to NaN before operating instead.\n",
      "  with pd.option_context('mode.use_inf_as_na', True):\n"
     ]
    },
    {
     "data": {
      "text/plain": [
       "<Axes: xlabel='GLD', ylabel='Density'>"
      ]
     },
     "execution_count": 32,
     "metadata": {},
     "output_type": "execute_result"
    },
    {
     "data": {
      "image/png": "[encoded data removed]",
      "text/plain": [
       "<Figure size 640x480 with 1 Axes>"
      ]
     },
     "metadata": {},
     "output_type": "display_data"
    }
   ],
   "source": [
    "# checking the distribution of the gold price\n",
    "sns.distplot(gold_dataset['GLD'],color='green')"
   ]
  },
  {
   "cell_type": "markdown",
   "id": "2ae6a847-2ffe-4a06-ab68-aef69676570b",
   "metadata": {},
   "source": [
    "## spllitting the features and target"
   ]
  },
  {
   "cell_type": "code",
   "execution_count": 34,
   "id": "785cc08f-edb4-4e36-886a-7c8d552c2f5c",
   "metadata": {},
   "outputs": [],
   "source": [
    "x=gold_dataset.drop(['Date','GLD'],axis=1)\n",
    "y=gold_dataset['GLD']"
   ]
  },
  {
   "cell_type": "code",
   "execution_count": 35,
   "id": "a2933435-d10d-4f82-88f2-4ad4fa373e9c",
   "metadata": {},
   "outputs": [
    {
     "data": {
      "text/html": [
       "<div>\n",
       "<style scoped>\n",
       "    .dataframe tbody tr th:only-of-type {\n",
       "        vertical-align: middle;\n",
       "    }\n",
       "\n",
       "    .dataframe tbody tr th {\n",
       "        vertical-align: top;\n",
       "    }\n",
       "\n",
       "    .dataframe thead th {\n",
       "        text-align: right;\n",
       "    }\n",
       "</style>\n",
       "<table border=\"1\" class=\"dataframe\">\n",
       "  <thead>\n",
       "    <tr style=\"text-align: right;\">\n",
       "      <th></th>\n",
       "      <th>SPX</th>\n",
       "      <th>USO</th>\n",
       "      <th>SLV</th>\n",
       "      <th>EUR/USD</th>\n",
       "    </tr>\n",
       "  </thead>\n",
       "  <tbody>\n",
       "    <tr>\n",
       "      <th>0</th>\n",
       "      <td>1447.160034</td>\n",
       "      <td>78.470001</td>\n",
       "      <td>15.1800</td>\n",
       "      <td>1.471692</td>\n",
       "    </tr>\n",
       "    <tr>\n",
       "      <th>1</th>\n",
       "      <td>1447.160034</td>\n",
       "      <td>78.370003</td>\n",
       "      <td>15.2850</td>\n",
       "      <td>1.474491</td>\n",
       "    </tr>\n",
       "    <tr>\n",
       "      <th>2</th>\n",
       "      <td>1411.630005</td>\n",
       "      <td>77.309998</td>\n",
       "      <td>15.1670</td>\n",
       "      <td>1.475492</td>\n",
       "    </tr>\n",
       "    <tr>\n",
       "      <th>3</th>\n",
       "      <td>1416.180054</td>\n",
       "      <td>75.500000</td>\n",
       "      <td>15.0530</td>\n",
       "      <td>1.468299</td>\n",
       "    </tr>\n",
       "    <tr>\n",
       "      <th>4</th>\n",
       "      <td>1390.189941</td>\n",
       "      <td>76.059998</td>\n",
       "      <td>15.5900</td>\n",
       "      <td>1.557099</td>\n",
       "    </tr>\n",
       "    <tr>\n",
       "      <th>...</th>\n",
       "      <td>...</td>\n",
       "      <td>...</td>\n",
       "      <td>...</td>\n",
       "      <td>...</td>\n",
       "    </tr>\n",
       "    <tr>\n",
       "      <th>2285</th>\n",
       "      <td>2671.919922</td>\n",
       "      <td>14.060000</td>\n",
       "      <td>15.5100</td>\n",
       "      <td>1.186789</td>\n",
       "    </tr>\n",
       "    <tr>\n",
       "      <th>2286</th>\n",
       "      <td>2697.790039</td>\n",
       "      <td>14.370000</td>\n",
       "      <td>15.5300</td>\n",
       "      <td>1.184722</td>\n",
       "    </tr>\n",
       "    <tr>\n",
       "      <th>2287</th>\n",
       "      <td>2723.070068</td>\n",
       "      <td>14.410000</td>\n",
       "      <td>15.7400</td>\n",
       "      <td>1.191753</td>\n",
       "    </tr>\n",
       "    <tr>\n",
       "      <th>2288</th>\n",
       "      <td>2730.129883</td>\n",
       "      <td>14.380000</td>\n",
       "      <td>15.5600</td>\n",
       "      <td>1.193118</td>\n",
       "    </tr>\n",
       "    <tr>\n",
       "      <th>2289</th>\n",
       "      <td>2725.780029</td>\n",
       "      <td>14.405800</td>\n",
       "      <td>15.4542</td>\n",
       "      <td>1.182033</td>\n",
       "    </tr>\n",
       "  </tbody>\n",
       "</table>\n",
       "<p>2290 rows × 4 columns</p>\n",
       "</div>"
      ],
      "text/plain": [
       "              SPX        USO      SLV   EUR/USD\n",
       "0     1447.160034  78.470001  15.1800  1.471692\n",
       "1     1447.160034  78.370003  15.2850  1.474491\n",
       "2     1411.630005  77.309998  15.1670  1.475492\n",
       "3     1416.180054  75.500000  15.0530  1.468299\n",
       "4     1390.189941  76.059998  15.5900  1.557099\n",
       "...           ...        ...      ...       ...\n",
       "2285  2671.919922  14.060000  15.5100  1.186789\n",
       "2286  2697.790039  14.370000  15.5300  1.184722\n",
       "2287  2723.070068  14.410000  15.7400  1.191753\n",
       "2288  2730.129883  14.380000  15.5600  1.193118\n",
       "2289  2725.780029  14.405800  15.4542  1.182033\n",
       "\n",
       "[2290 rows x 4 columns]"
      ]
     },
     "execution_count": 35,
     "metadata": {},
     "output_type": "execute_result"
    }
   ],
   "source": [
    "x"
   ]
  },
  {
   "cell_type": "code",
   "execution_count": 37,
   "id": "7a8b2502-a1fd-4e17-a1e8-b0632acd281b",
   "metadata": {},
   "outputs": [
    {
     "data": {
      "text/plain": [
       "0        84.860001\n",
       "1        85.570000\n",
       "2        85.129997\n",
       "3        84.769997\n",
       "4        86.779999\n",
       "           ...    \n",
       "2285    124.589996\n",
       "2286    124.330002\n",
       "2287    125.180000\n",
       "2288    124.489998\n",
       "2289    122.543800\n",
       "Name: GLD, Length: 2290, dtype: float64"
      ]
     },
     "execution_count": 37,
     "metadata": {},
     "output_type": "execute_result"
    }
   ],
   "source": [
    "y"
   ]
  },
  {
   "cell_type": "markdown",
   "id": "3848e5d9-4ad0-4e6d-9ea2-97b680a2fa80",
   "metadata": {},
   "source": [
    "### splitting the training data and testing data "
   ]
  },
  {
   "cell_type": "code",
   "execution_count": 39,
   "id": "332ee6f1-e58c-4f20-adc4-85d4701151bb",
   "metadata": {},
   "outputs": [],
   "source": [
    "x_train,x_test,y_train,y_test=train_test_split(x,y,test_size=0.2,\n",
    "                                               random_state=2)"
   ]
  },
  {
   "cell_type": "code",
   "execution_count": 40,
   "id": "6232cf4b-0822-4e8c-aec1-7f55a567a517",
   "metadata": {},
   "outputs": [
    {
     "name": "stdout",
     "output_type": "stream",
     "text": [
      "(2290, 4) (1832, 4) (458, 4)\n"
     ]
    }
   ],
   "source": [
    "print(x.shape,x_train.shape,x_test.shape)"
   ]
  },
  {
   "cell_type": "markdown",
   "id": "d51d3589-1a1b-4f4e-b779-fda4bb752cfd",
   "metadata": {},
   "source": [
    "## model training : random forest regression"
   ]
  },
  {
   "cell_type": "code",
   "execution_count": 41,
   "id": "cbfdfd5a-e857-4b9c-b8a3-34df4d075170",
   "metadata": {},
   "outputs": [],
   "source": [
    "regressor=RandomForestRegressor(n_estimators=100)"
   ]
  },
  {
   "cell_type": "code",
   "execution_count": 42,
   "id": "da8b53b3-8ce5-466c-8259-939fef2b3a39",
   "metadata": {},
   "outputs": [
    {
     "data": {
      "text/html": [
       "<style>#sk-container-id-1 {color: black;background-color: white;}#sk-container-id-1 pre{padding: 0;}#sk-container-id-1 div.sk-toggleable {background-color: white;}#sk-container-id-1 label.sk-toggleable__label {cursor: pointer;display: block;width: 100%;margin-bottom: 0;padding: 0.3em;box-sizing: border-box;text-align: center;}#sk-container-id-1 label.sk-toggleable__label-arrow:before {content: \"▸\";float: left;margin-right: 0.25em;color: #696969;}#sk-container-id-1 label.sk-toggleable__label-arrow:hover:before {color: black;}#sk-container-id-1 div.sk-estimator:hover label.sk-toggleable__label-arrow:before {color: black;}#sk-container-id-1 div.sk-toggleable__content {max-height: 0;max-width: 0;overflow: hidden;text-align: left;background-color: #f0f8ff;}#sk-container-id-1 div.sk-toggleable__content pre {margin: 0.2em;color: black;border-radius: 0.25em;background-color: #f0f8ff;}#sk-container-id-1 input.sk-toggleable__control:checked~div.sk-toggleable__content {max-height: 200px;max-width: 100%;overflow: auto;}#sk-container-id-1 input.sk-toggleable__control:checked~label.sk-toggleable__label-arrow:before {content: \"▾\";}#sk-container-id-1 div.sk-estimator input.sk-toggleable__control:checked~label.sk-toggleable__label {background-color: #d4ebff;}#sk-container-id-1 div.sk-label input.sk-toggleable__control:checked~label.sk-toggleable__label {background-color: #d4ebff;}#sk-container-id-1 input.sk-hidden--visually {border: 0;clip: rect(1px 1px 1px 1px);clip: rect(1px, 1px, 1px, 1px);height: 1px;margin: -1px;overflow: hidden;padding: 0;position: absolute;width: 1px;}#sk-container-id-1 div.sk-estimator {font-family: monospace;background-color: #f0f8ff;border: 1px dotted black;border-radius: 0.25em;box-sizing: border-box;margin-bottom: 0.5em;}#sk-container-id-1 div.sk-estimator:hover {background-color: #d4ebff;}#sk-container-id-1 div.sk-parallel-item::after {content: \"\";width: 100%;border-bottom: 1px solid gray;flex-grow: 1;}#sk-container-id-1 div.sk-label:hover label.sk-toggleable__label {background-color: #d4ebff;}#sk-container-id-1 div.sk-serial::before {content: \"\";position: absolute;border-left: 1px solid gray;box-sizing: border-box;top: 0;bottom: 0;left: 50%;z-index: 0;}#sk-container-id-1 div.sk-serial {display: flex;flex-direction: column;align-items: center;background-color: white;padding-right: 0.2em;padding-left: 0.2em;position: relative;}#sk-container-id-1 div.sk-item {position: relative;z-index: 1;}#sk-container-id-1 div.sk-parallel {display: flex;align-items: stretch;justify-content: center;background-color: white;position: relative;}#sk-container-id-1 div.sk-item::before, #sk-container-id-1 div.sk-parallel-item::before {content: \"\";position: absolute;border-left: 1px solid gray;box-sizing: border-box;top: 0;bottom: 0;left: 50%;z-index: -1;}#sk-container-id-1 div.sk-parallel-item {display: flex;flex-direction: column;z-index: 1;position: relative;background-color: white;}#sk-container-id-1 div.sk-parallel-item:first-child::after {align-self: flex-end;width: 50%;}#sk-container-id-1 div.sk-parallel-item:last-child::after {align-self: flex-start;width: 50%;}#sk-container-id-1 div.sk-parallel-item:only-child::after {width: 0;}#sk-container-id-1 div.sk-dashed-wrapped {border: 1px dashed gray;margin: 0 0.4em 0.5em 0.4em;box-sizing: border-box;padding-bottom: 0.4em;background-color: white;}#sk-container-id-1 div.sk-label label {font-family: monospace;font-weight: bold;display: inline-block;line-height: 1.2em;}#sk-container-id-1 div.sk-label-container {text-align: center;}#sk-container-id-1 div.sk-container {/* jupyter's `normalize.less` sets `[hidden] { display: none; }` but bootstrap.min.css set `[hidden] { display: none !important; }` so we also need the `!important` here to be able to override the default hidden behavior on the sphinx rendered scikit-learn.org. See: https://github.com/scikit-learn/scikit-learn/issues/21755 */display: inline-block !important;position: relative;}#sk-container-id-1 div.sk-text-repr-fallback {display: none;}</style><div id=\"sk-container-id-1\" class=\"sk-top-container\"><div class=\"sk-text-repr-fallback\"><pre>RandomForestRegressor()</pre><b>In a Jupyter environment, please rerun this cell to show the HTML representation or trust the notebook. <br />On GitHub, the HTML representation is unable to render, please try loading this page with nbviewer.org.</b></div><div class=\"sk-container\" hidden><div class=\"sk-item\"><div class=\"sk-estimator sk-toggleable\"><input class=\"sk-toggleable__control sk-hidden--visually\" id=\"sk-estimator-id-1\" type=\"checkbox\" checked><label for=\"sk-estimator-id-1\" class=\"sk-toggleable__label sk-toggleable__label-arrow\">RandomForestRegressor</label><div class=\"sk-toggleable__content\"><pre>RandomForestRegressor()</pre></div></div></div></div></div>"
      ],
      "text/plain": [
       "RandomForestRegressor()"
      ]
     },
     "execution_count": 42,
     "metadata": {},
     "output_type": "execute_result"
    }
   ],
   "source": [
    "# training the model\n",
    "regressor.fit(x_train,y_train)"
   ]
  },
  {
   "cell_type": "markdown",
   "id": "69c0425b-4941-4c8e-b761-04c7d6869713",
   "metadata": {},
   "source": [
    "##  model evaluation"
   ]
  },
  {
   "cell_type": "code",
   "execution_count": 43,
   "id": "447b6bbb-e944-42cd-858b-fa61bc8e3c60",
   "metadata": {},
   "outputs": [],
   "source": [
    "# prediction on test data\n",
    "test_data_pred=regressor.predict(x_test)"
   ]
  },
  {
   "cell_type": "code",
   "execution_count": 44,
   "id": "dea36c4c-82ce-4b06-9721-594e76944361",
   "metadata": {},
   "outputs": [
    {
     "data": {
      "text/plain": [
       "array([168.61459943,  82.08489971, 115.97909999, 127.66470083,\n",
       "       120.86320134, 154.69999753, 150.07709864, 126.05760052,\n",
       "       117.52669867, 125.92810073, 116.77970117, 171.16700105,\n",
       "       141.53009861, 167.8079982 , 115.20289986, 118.04870034,\n",
       "       138.13200348, 169.42759974, 160.24440332, 157.12929966,\n",
       "       155.15480005, 125.22570011, 175.90499935, 157.09930301,\n",
       "       125.24240025,  93.85859969,  77.35520017, 120.73399995,\n",
       "       119.13589941, 167.53129958,  88.24920039, 125.34530006,\n",
       "        90.92470084, 117.78419985, 120.9457993 , 135.96039996,\n",
       "       115.25990137, 115.46620099, 148.00190016, 106.99270104,\n",
       "       104.67100273,  87.19169815, 126.55240051, 117.8635001 ,\n",
       "       154.34119892, 119.7653999 , 108.29730017, 108.18149832,\n",
       "        93.24010036, 127.17539786,  74.83770032, 113.71209952,\n",
       "       121.50430017, 111.07229914, 118.81929897, 120.48709975,\n",
       "       159.32830112, 167.17600097, 146.62899751,  85.90039845,\n",
       "        94.18260029,  86.80879882,  90.45740026, 118.99640072,\n",
       "       126.48000044, 127.68139999, 168.87859992, 122.25679949,\n",
       "       117.26449905,  98.28580069, 168.83630146, 142.92909828,\n",
       "       132.01520247, 121.10960238, 120.85789944, 119.61630048,\n",
       "       114.43870204, 118.27920045, 107.28540096, 127.87400086,\n",
       "       113.91559971, 107.42509961, 116.7451004 , 119.60219869,\n",
       "        89.05360066,  88.21169876, 146.08850218, 127.18720044,\n",
       "       113.42480023, 110.0456982 , 108.00899906,  76.60749937,\n",
       "       169.38650176, 114.04329909, 121.62869905, 127.81940189,\n",
       "       154.93729815,  91.57629946, 135.12400094, 159.14150245,\n",
       "       125.20790072, 125.56250062, 130.31990229, 114.7805013 ,\n",
       "       119.79869966,  92.20639989, 110.4007988 , 166.1954992 ,\n",
       "       157.13569945, 114.21469931, 106.71490152,  79.22620005,\n",
       "       113.25750035, 125.78660088, 107.33549957, 119.30160106,\n",
       "       155.45930299, 159.16089956, 120.60939985, 135.04230263,\n",
       "       101.48509958, 117.57159803, 119.23600016, 112.80540092,\n",
       "       102.76089892, 160.2219979 ,  98.71380046, 149.29459965,\n",
       "       125.89560137, 170.06159961, 125.83479908, 127.33559784,\n",
       "       127.44780141, 113.78799926, 112.88550085, 123.55019913,\n",
       "       102.16249907,  89.33389988, 124.56719975, 101.93139931,\n",
       "       107.24459938, 113.43110066, 117.39760043,  99.17849974,\n",
       "       121.88150028, 163.249399  ,  87.41529849, 106.79189985,\n",
       "       117.29090061, 127.67410141, 123.92440053,  80.77099941,\n",
       "       120.45450071, 158.02399847,  87.95979989, 110.3021994 ,\n",
       "       119.00099908, 172.36089882, 102.97889894, 105.52520052,\n",
       "       122.6584004 , 157.95939803,  87.68609831,  93.39320037,\n",
       "       112.77650027, 177.2586994 , 114.21430006, 119.19710019,\n",
       "        94.6147011 , 125.97900051, 166.21340102, 114.67330098,\n",
       "       116.84900103,  88.29479863, 148.71790131, 120.25649937,\n",
       "        89.45119951, 112.11109972, 117.4920002 , 118.7240011 ,\n",
       "        88.06809938,  94.08410017, 116.99510055, 118.4898017 ,\n",
       "       120.27820035, 126.62089817, 121.83930011, 149.10790022,\n",
       "       164.69220044, 118.48609974, 120.3257013 , 149.75849952,\n",
       "       118.75199915, 172.70069879, 105.20499915, 105.0153013 ,\n",
       "       149.82660156, 114.00270112, 124.77850106, 147.36820037,\n",
       "       119.55270135, 115.2877005 , 112.86649983, 113.48120207,\n",
       "       142.02520207, 117.7864978 , 102.92420036, 115.93140075,\n",
       "       103.66440185,  98.63700052, 117.42870079,  90.6923999 ,\n",
       "        91.55400051, 153.47189992, 102.69999964, 155.00270153,\n",
       "       114.38130148, 137.93960128,  90.09359835, 115.47219977,\n",
       "       114.57169977, 122.87950029, 121.77920044, 165.56320157,\n",
       "        92.89739934, 135.92750108, 121.39779882, 121.07390063,\n",
       "       104.6668001 , 140.81040301, 121.56789911, 116.84810043,\n",
       "       113.54940106, 127.05059753, 122.57189928, 125.73049931,\n",
       "       121.29109996,  86.79879919, 132.44330092, 144.67560254,\n",
       "        92.67569961, 159.18509927, 159.07740238, 126.02469906,\n",
       "       164.60929902, 108.95279939, 110.46710046, 103.77259846,\n",
       "        94.4741007 , 128.26260317, 107.14400047, 162.30060051,\n",
       "       121.70560006, 132.0354005 , 130.44890239, 160.98620096,\n",
       "        90.07109855, 175.33110208, 127.44860039, 126.77169832,\n",
       "        86.46879927, 124.63379952, 150.07859721,  89.69790001,\n",
       "       107.12389989, 109.01719993,  83.66079919, 135.93700034,\n",
       "       155.17630253, 136.88480404,  74.26130023, 152.27140086,\n",
       "       126.15680011, 126.72710022, 127.43369931, 108.8108993 ,\n",
       "       156.22510018, 114.57460122, 116.81950136, 125.30479928,\n",
       "       154.00340156, 121.34400008, 156.4103983 ,  93.02050061,\n",
       "       125.50770139, 125.44120031,  87.78700027,  92.12429931,\n",
       "       126.29759941, 128.60620363, 113.18770049, 117.98069785,\n",
       "       121.1837    , 126.9977982 , 119.59970129, 136.15400056,\n",
       "        93.80509912, 119.74050038, 113.145101  ,  94.2371992 ,\n",
       "       108.73389958,  87.25869934, 109.08229947,  89.55489971,\n",
       "        92.34080005, 131.5914035 , 162.26919987,  89.51399948,\n",
       "       119.66250077, 133.21970133, 123.76130022, 128.35610144,\n",
       "       101.9696986 ,  89.08489845, 131.98930104, 119.9976004 ,\n",
       "       108.66579984, 169.53480196, 115.2190004 ,  86.64759923,\n",
       "       118.86400085,  90.95529979, 161.92219977, 116.54100049,\n",
       "       121.61089991, 160.53029824, 120.18299912, 112.87419933,\n",
       "       108.39789872, 126.62320022,  76.12769997, 103.00729979,\n",
       "       127.79410277, 121.62079912,  92.6030998 , 131.79580068,\n",
       "       118.14830082, 116.0781997 , 154.40980247, 159.31010087,\n",
       "       109.99429957, 152.57649761, 119.36730082, 159.95280094,\n",
       "       118.59710006, 158.4582993 , 115.10639934, 116.42980022,\n",
       "       148.19199863, 114.6385007 , 125.80759886, 166.1797992 ,\n",
       "       117.80070009, 125.00749942, 153.22440403, 153.43840235,\n",
       "       132.45830075, 114.74280053, 121.22790257, 125.06810085,\n",
       "        89.78060046, 122.90080016, 154.82350202, 111.74750052,\n",
       "       106.87039992, 161.44760071, 118.52169991, 165.51419918,\n",
       "       134.08570132, 115.03529939, 153.08219938, 168.66819888,\n",
       "       114.91499987, 114.10890116, 158.53489873,  85.33549868,\n",
       "       127.01460037, 127.92040032, 128.80319966, 124.26460065,\n",
       "       123.91740066,  90.54100045, 153.24320055,  97.0534995 ,\n",
       "       137.13480001,  89.21029907, 107.48059986, 115.03290044,\n",
       "       112.81880111, 124.33549902,  91.38239911, 125.56490161,\n",
       "       162.38069804, 119.96219891, 165.27910066, 126.60069829,\n",
       "       112.4236002 , 127.49439903,  95.09899867,  90.78909986,\n",
       "       102.76189889, 120.79400016,  83.35109944, 126.45199985,\n",
       "       161.03050488, 117.44200109, 118.36959978, 119.84599973,\n",
       "       122.79159974, 120.09030127, 121.48769997, 118.26940036,\n",
       "       107.17329992, 148.23400051, 126.20599864, 115.62890087,\n",
       "        74.13390002, 127.83580139, 154.1246006 , 122.00240013,\n",
       "       125.53160019,  88.86709981, 103.58439845, 124.76820057,\n",
       "       120.33020015,  73.35940076, 151.74180021, 121.3939005 ,\n",
       "       104.78010026,  86.38759752, 115.05139904, 172.22379839,\n",
       "       120.0646005 , 160.77029791, 113.14729955, 120.96190031,\n",
       "       118.84670095,  95.98729983, 118.92199976, 125.80820032,\n",
       "       118.38499968,  96.21820091, 153.80850225, 122.19480016,\n",
       "       147.36229986, 159.89970215, 113.83150023, 122.52939945,\n",
       "       148.09099799, 126.94500008, 165.75970084, 135.52380051,\n",
       "       119.97069932, 167.18539865, 108.31159953, 121.67089861,\n",
       "       139.3726012 , 106.22469892])"
      ]
     },
     "execution_count": 44,
     "metadata": {},
     "output_type": "execute_result"
    }
   ],
   "source": [
    "test_data_pred"
   ]
  },
  {
   "cell_type": "code",
   "execution_count": 45,
   "id": "23c97875-3453-4b99-91ed-7bd04839437c",
   "metadata": {},
   "outputs": [],
   "source": [
    "# r square error\n",
    "error_score=metrics.r2_score(y_test,test_data_pred)"
   ]
  },
  {
   "cell_type": "code",
   "execution_count": 47,
   "id": "53b28a7b-fa54-4374-b701-79e19909d3a5",
   "metadata": {},
   "outputs": [
    {
     "name": "stdout",
     "output_type": "stream",
     "text": [
      "r square erroe 0.9896760129606909\n"
     ]
    }
   ],
   "source": [
    "print('r square erroe',error_score)"
   ]
  },
  {
   "cell_type": "markdown",
   "id": "061f7c66-02de-4b67-8568-922b1e8618e0",
   "metadata": {},
   "source": [
    "# compare the actual values and predicted valus in a plot"
   ]
  },
  {
   "cell_type": "code",
   "execution_count": 48,
   "id": "c1f943e1-08ed-4763-8ad2-920a1101cb02",
   "metadata": {},
   "outputs": [],
   "source": [
    "y_test=list(y_test)"
   ]
  },
  {
   "cell_type": "code",
   "execution_count": 50,
   "id": "4268d7db-4fab-4257-831a-0173f5d08c00",
   "metadata": {},
   "outputs": [
    {
     "data": {
      "image/png": "[encoded data removed]",
      "text/plain": [
       "<Figure size 640x480 with 1 Axes>"
      ]
     },
     "metadata": {},
     "output_type": "display_data"
    }
   ],
   "source": [
    "import matplotlib.pyplot as plt\n",
    "\n",
    "# Assuming y_test and test_data_pred are defined\n",
    "plt.plot(y_test, color='blue', label='actual value')  # Correct label argument\n",
    "plt.plot(test_data_pred, color='green', label='predicted value')  # Correct label argument\n",
    "\n",
    "# Set the title and labels\n",
    "plt.title('Actual Price vs Predicted Price')\n",
    "plt.xlabel('Number of Values')\n",
    "plt.ylabel('Price')\n",
    "\n",
    "# Show the legend\n",
    "plt.legend()\n",
    "\n",
    "# Show the plot\n",
    "plt.show()"
   ]
  },
  {
   "cell_type": "code",
   "execution_count": null,
   "id": "57dcd160-371e-4dca-8755-59a1081dda34",
   "metadata": {},
   "outputs": [],
   "source": []
  }
 ],
 "metadata": {
  "kernelspec": {
   "display_name": "Python 3 (ipykernel)",
   "language": "python",
   "name": "python3"
  },
  "language_info": {
   "codemirror_mode": {
    "name": "ipython",
    "version": 3
   },
   "file_extension": ".py",
   "mimetype": "text/x-python",
   "name": "python",
   "nbconvert_exporter": "python",
   "pygments_lexer": "ipython3",
   "version": "3.11.7"
  }
 },
 "nbformat": 4,
 "nbformat_minor": 5
}
