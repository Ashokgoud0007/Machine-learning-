{
 "cells": [
  {
   "cell_type": "markdown",
   "id": "ef67aa30-cd1a-42de-92f6-dc1c944087d6",
   "metadata": {},
   "source": [
    "## importing the dependies"
   ]
  },
  {
   "cell_type": "code",
   "execution_count": 80,
   "id": "486ab577-40ea-48b8-8769-0d8db94a374c",
   "metadata": {},
   "outputs": [],
   "source": [
    "import pandas as pd \n",
    "import matplotlib.pyplot as plt\n",
    "import seaborn as sns\n",
    "from sklearn.model_selection import train_test_split\n",
    "from sklearn.linear_model import LinearRegression\n",
    "from sklearn.linear_model import Lasso\n",
    "from sklearn import metrics"
   ]
  },
  {
   "cell_type": "markdown",
   "id": "f152576c-5214-488c-a412-7029fc02c810",
   "metadata": {},
   "source": [
    "### data collection and processing"
   ]
  },
  {
   "cell_type": "code",
   "execution_count": 81,
   "id": "bd587608-7cec-4314-8c43-6b671c6fd870",
   "metadata": {},
   "outputs": [],
   "source": [
    "# loading the data from csv to pandas dataframe\n",
    "car_dataset=pd.read_csv(\"C:\\machine learning\\machine learning datasets\\CAR DETAILS FROM CAR DEKHO.csv\")"
   ]
  },
  {
   "cell_type": "code",
   "execution_count": 82,
   "id": "cabb4197-f747-4d4d-b725-e054fed4bb51",
   "metadata": {},
   "outputs": [
    {
     "data": {
      "text/html": [
       "<div>\n",
       "<style scoped>\n",
       "    .dataframe tbody tr th:only-of-type {\n",
       "        vertical-align: middle;\n",
       "    }\n",
       "\n",
       "    .dataframe tbody tr th {\n",
       "        vertical-align: top;\n",
       "    }\n",
       "\n",
       "    .dataframe thead th {\n",
       "        text-align: right;\n",
       "    }\n",
       "</style>\n",
       "<table border=\"1\" class=\"dataframe\">\n",
       "  <thead>\n",
       "    <tr style=\"text-align: right;\">\n",
       "      <th></th>\n",
       "      <th>name</th>\n",
       "      <th>year</th>\n",
       "      <th>selling_price</th>\n",
       "      <th>km_driven</th>\n",
       "      <th>fuel</th>\n",
       "      <th>seller_type</th>\n",
       "      <th>transmission</th>\n",
       "      <th>owner</th>\n",
       "    </tr>\n",
       "  </thead>\n",
       "  <tbody>\n",
       "    <tr>\n",
       "      <th>0</th>\n",
       "      <td>Maruti 800 AC</td>\n",
       "      <td>2007</td>\n",
       "      <td>60000</td>\n",
       "      <td>70000</td>\n",
       "      <td>Petrol</td>\n",
       "      <td>Individual</td>\n",
       "      <td>Manual</td>\n",
       "      <td>First Owner</td>\n",
       "    </tr>\n",
       "    <tr>\n",
       "      <th>1</th>\n",
       "      <td>Maruti Wagon R LXI Minor</td>\n",
       "      <td>2007</td>\n",
       "      <td>135000</td>\n",
       "      <td>50000</td>\n",
       "      <td>Petrol</td>\n",
       "      <td>Individual</td>\n",
       "      <td>Manual</td>\n",
       "      <td>First Owner</td>\n",
       "    </tr>\n",
       "    <tr>\n",
       "      <th>2</th>\n",
       "      <td>Hyundai Verna 1.6 SX</td>\n",
       "      <td>2012</td>\n",
       "      <td>600000</td>\n",
       "      <td>100000</td>\n",
       "      <td>Diesel</td>\n",
       "      <td>Individual</td>\n",
       "      <td>Manual</td>\n",
       "      <td>First Owner</td>\n",
       "    </tr>\n",
       "    <tr>\n",
       "      <th>3</th>\n",
       "      <td>Datsun RediGO T Option</td>\n",
       "      <td>2017</td>\n",
       "      <td>250000</td>\n",
       "      <td>46000</td>\n",
       "      <td>Petrol</td>\n",
       "      <td>Individual</td>\n",
       "      <td>Manual</td>\n",
       "      <td>First Owner</td>\n",
       "    </tr>\n",
       "    <tr>\n",
       "      <th>4</th>\n",
       "      <td>Honda Amaze VX i-DTEC</td>\n",
       "      <td>2014</td>\n",
       "      <td>450000</td>\n",
       "      <td>141000</td>\n",
       "      <td>Diesel</td>\n",
       "      <td>Individual</td>\n",
       "      <td>Manual</td>\n",
       "      <td>Second Owner</td>\n",
       "    </tr>\n",
       "    <tr>\n",
       "      <th>...</th>\n",
       "      <td>...</td>\n",
       "      <td>...</td>\n",
       "      <td>...</td>\n",
       "      <td>...</td>\n",
       "      <td>...</td>\n",
       "      <td>...</td>\n",
       "      <td>...</td>\n",
       "      <td>...</td>\n",
       "    </tr>\n",
       "    <tr>\n",
       "      <th>4335</th>\n",
       "      <td>Hyundai i20 Magna 1.4 CRDi (Diesel)</td>\n",
       "      <td>2014</td>\n",
       "      <td>409999</td>\n",
       "      <td>80000</td>\n",
       "      <td>Diesel</td>\n",
       "      <td>Individual</td>\n",
       "      <td>Manual</td>\n",
       "      <td>Second Owner</td>\n",
       "    </tr>\n",
       "    <tr>\n",
       "      <th>4336</th>\n",
       "      <td>Hyundai i20 Magna 1.4 CRDi</td>\n",
       "      <td>2014</td>\n",
       "      <td>409999</td>\n",
       "      <td>80000</td>\n",
       "      <td>Diesel</td>\n",
       "      <td>Individual</td>\n",
       "      <td>Manual</td>\n",
       "      <td>Second Owner</td>\n",
       "    </tr>\n",
       "    <tr>\n",
       "      <th>4337</th>\n",
       "      <td>Maruti 800 AC BSIII</td>\n",
       "      <td>2009</td>\n",
       "      <td>110000</td>\n",
       "      <td>83000</td>\n",
       "      <td>Petrol</td>\n",
       "      <td>Individual</td>\n",
       "      <td>Manual</td>\n",
       "      <td>Second Owner</td>\n",
       "    </tr>\n",
       "    <tr>\n",
       "      <th>4338</th>\n",
       "      <td>Hyundai Creta 1.6 CRDi SX Option</td>\n",
       "      <td>2016</td>\n",
       "      <td>865000</td>\n",
       "      <td>90000</td>\n",
       "      <td>Diesel</td>\n",
       "      <td>Individual</td>\n",
       "      <td>Manual</td>\n",
       "      <td>First Owner</td>\n",
       "    </tr>\n",
       "    <tr>\n",
       "      <th>4339</th>\n",
       "      <td>Renault KWID RXT</td>\n",
       "      <td>2016</td>\n",
       "      <td>225000</td>\n",
       "      <td>40000</td>\n",
       "      <td>Petrol</td>\n",
       "      <td>Individual</td>\n",
       "      <td>Manual</td>\n",
       "      <td>First Owner</td>\n",
       "    </tr>\n",
       "  </tbody>\n",
       "</table>\n",
       "<p>4340 rows × 8 columns</p>\n",
       "</div>"
      ],
      "text/plain": [
       "                                     name  year  selling_price  km_driven  \\\n",
       "0                           Maruti 800 AC  2007          60000      70000   \n",
       "1                Maruti Wagon R LXI Minor  2007         135000      50000   \n",
       "2                    Hyundai Verna 1.6 SX  2012         600000     100000   \n",
       "3                  Datsun RediGO T Option  2017         250000      46000   \n",
       "4                   Honda Amaze VX i-DTEC  2014         450000     141000   \n",
       "...                                   ...   ...            ...        ...   \n",
       "4335  Hyundai i20 Magna 1.4 CRDi (Diesel)  2014         409999      80000   \n",
       "4336           Hyundai i20 Magna 1.4 CRDi  2014         409999      80000   \n",
       "4337                  Maruti 800 AC BSIII  2009         110000      83000   \n",
       "4338     Hyundai Creta 1.6 CRDi SX Option  2016         865000      90000   \n",
       "4339                     Renault KWID RXT  2016         225000      40000   \n",
       "\n",
       "        fuel seller_type transmission         owner  \n",
       "0     Petrol  Individual       Manual   First Owner  \n",
       "1     Petrol  Individual       Manual   First Owner  \n",
       "2     Diesel  Individual       Manual   First Owner  \n",
       "3     Petrol  Individual       Manual   First Owner  \n",
       "4     Diesel  Individual       Manual  Second Owner  \n",
       "...      ...         ...          ...           ...  \n",
       "4335  Diesel  Individual       Manual  Second Owner  \n",
       "4336  Diesel  Individual       Manual  Second Owner  \n",
       "4337  Petrol  Individual       Manual  Second Owner  \n",
       "4338  Diesel  Individual       Manual   First Owner  \n",
       "4339  Petrol  Individual       Manual   First Owner  \n",
       "\n",
       "[4340 rows x 8 columns]"
      ]
     },
     "execution_count": 82,
     "metadata": {},
     "output_type": "execute_result"
    }
   ],
   "source": [
    "car_dataset"
   ]
  },
  {
   "cell_type": "code",
   "execution_count": 83,
   "id": "1cce13c9-9c2e-4819-b24e-b18d5c8a40b6",
   "metadata": {},
   "outputs": [
    {
     "data": {
      "text/plain": [
       "(4340, 8)"
      ]
     },
     "execution_count": 83,
     "metadata": {},
     "output_type": "execute_result"
    }
   ],
   "source": [
    "# to check the number of roes and columns \n",
    "car_dataset.shape"
   ]
  },
  {
   "cell_type": "code",
   "execution_count": 84,
   "id": "8107f26a-2edb-4552-98f4-50693f2da663",
   "metadata": {},
   "outputs": [
    {
     "data": {
      "text/plain": [
       "name             0\n",
       "year             0\n",
       "selling_price    0\n",
       "km_driven        0\n",
       "fuel             0\n",
       "seller_type      0\n",
       "transmission     0\n",
       "owner            0\n",
       "dtype: int64"
      ]
     },
     "execution_count": 84,
     "metadata": {},
     "output_type": "execute_result"
    }
   ],
   "source": [
    "# to check the null values \n",
    "car_dataset.isnull().sum()"
   ]
  },
  {
   "cell_type": "code",
   "execution_count": 85,
   "id": "308468b4-b6e5-4221-88f1-fbe138215f01",
   "metadata": {},
   "outputs": [
    {
     "name": "stdout",
     "output_type": "stream",
     "text": [
      "<class 'pandas.core.frame.DataFrame'>\n",
      "RangeIndex: 4340 entries, 0 to 4339\n",
      "Data columns (total 8 columns):\n",
      " #   Column         Non-Null Count  Dtype \n",
      "---  ------         --------------  ----- \n",
      " 0   name           4340 non-null   object\n",
      " 1   year           4340 non-null   int64 \n",
      " 2   selling_price  4340 non-null   int64 \n",
      " 3   km_driven      4340 non-null   int64 \n",
      " 4   fuel           4340 non-null   object\n",
      " 5   seller_type    4340 non-null   object\n",
      " 6   transmission   4340 non-null   object\n",
      " 7   owner          4340 non-null   object\n",
      "dtypes: int64(3), object(5)\n",
      "memory usage: 271.4+ KB\n"
     ]
    }
   ],
   "source": [
    "# to get total information about this dataset\n",
    "car_dataset.info()"
   ]
  },
  {
   "cell_type": "code",
   "execution_count": 86,
   "id": "e74ceaf0-7e64-4c9c-ba8f-d648cd8fb92e",
   "metadata": {},
   "outputs": [
    {
     "name": "stdout",
     "output_type": "stream",
     "text": [
      "owner\n",
      "First Owner             2832\n",
      "Second Owner            1106\n",
      "Third Owner              304\n",
      "Fourth & Above Owner      81\n",
      "Test Drive Car            17\n",
      "Name: count, dtype: int64\n",
      "fuel\n",
      "Diesel      2153\n",
      "Petrol      2123\n",
      "CNG           40\n",
      "LPG           23\n",
      "Electric       1\n",
      "Name: count, dtype: int64\n",
      "transmission\n",
      "Manual       3892\n",
      "Automatic     448\n",
      "Name: count, dtype: int64\n",
      "seller_type\n",
      "Individual          3244\n",
      "Dealer               994\n",
      "Trustmark Dealer     102\n",
      "Name: count, dtype: int64\n"
     ]
    }
   ],
   "source": [
    "# checking the distribution of categorical data \n",
    "\n",
    "\n",
    "print(car_dataset[\"owner\"].value_counts())\n",
    "print(car_dataset[\"fuel\"].value_counts())\n",
    "print(car_dataset[\"transmission\"].value_counts())\n",
    "print(car_dataset[\"seller_type\"].value_counts())\n"
   ]
  },
  {
   "cell_type": "markdown",
   "id": "cdea7054-349e-41cf-b2a5-90cd2509666b",
   "metadata": {},
   "source": [
    "# Encoding the categorical data"
   ]
  },
  {
   "cell_type": "code",
   "execution_count": 87,
   "id": "4ed9713a-6e8f-4acd-9f86-e0fcda565b92",
   "metadata": {},
   "outputs": [],
   "source": [
    "# encoding fuel column\n",
    "car_dataset.replace({\"fuel\":{\"Diesel\":0,\"Petrol\":1,'CNG':2,'LPG':3,\"Electric\":4}},inplace=True)\n",
    "car_dataset.replace({\"owner\":{\"First Owner\":0,\"Second Owner\":1,'Third Owner':2,'Fourth & Above Owner':3,\"Test Drive Car\":4}},inplace=True)\n",
    "car_dataset.replace({\"transmission\":{\"Manual\":0,\"Automatic\":1}},inplace=True)\n",
    "car_dataset.replace({\"seller_type\":{\"Individual\":0,\"Dealer\":1,'Trustmark Dealer':2}},inplace=True)\n"
   ]
  },
  {
   "cell_type": "code",
   "execution_count": 88,
   "id": "4c6751f8-ba62-45b9-a23e-e0c6aad14bba",
   "metadata": {},
   "outputs": [
    {
     "data": {
      "text/html": [
       "<div>\n",
       "<style scoped>\n",
       "    .dataframe tbody tr th:only-of-type {\n",
       "        vertical-align: middle;\n",
       "    }\n",
       "\n",
       "    .dataframe tbody tr th {\n",
       "        vertical-align: top;\n",
       "    }\n",
       "\n",
       "    .dataframe thead th {\n",
       "        text-align: right;\n",
       "    }\n",
       "</style>\n",
       "<table border=\"1\" class=\"dataframe\">\n",
       "  <thead>\n",
       "    <tr style=\"text-align: right;\">\n",
       "      <th></th>\n",
       "      <th>name</th>\n",
       "      <th>year</th>\n",
       "      <th>selling_price</th>\n",
       "      <th>km_driven</th>\n",
       "      <th>fuel</th>\n",
       "      <th>seller_type</th>\n",
       "      <th>transmission</th>\n",
       "      <th>owner</th>\n",
       "    </tr>\n",
       "  </thead>\n",
       "  <tbody>\n",
       "    <tr>\n",
       "      <th>0</th>\n",
       "      <td>Maruti 800 AC</td>\n",
       "      <td>2007</td>\n",
       "      <td>60000</td>\n",
       "      <td>70000</td>\n",
       "      <td>1</td>\n",
       "      <td>0</td>\n",
       "      <td>0</td>\n",
       "      <td>0</td>\n",
       "    </tr>\n",
       "    <tr>\n",
       "      <th>1</th>\n",
       "      <td>Maruti Wagon R LXI Minor</td>\n",
       "      <td>2007</td>\n",
       "      <td>135000</td>\n",
       "      <td>50000</td>\n",
       "      <td>1</td>\n",
       "      <td>0</td>\n",
       "      <td>0</td>\n",
       "      <td>0</td>\n",
       "    </tr>\n",
       "    <tr>\n",
       "      <th>2</th>\n",
       "      <td>Hyundai Verna 1.6 SX</td>\n",
       "      <td>2012</td>\n",
       "      <td>600000</td>\n",
       "      <td>100000</td>\n",
       "      <td>0</td>\n",
       "      <td>0</td>\n",
       "      <td>0</td>\n",
       "      <td>0</td>\n",
       "    </tr>\n",
       "    <tr>\n",
       "      <th>3</th>\n",
       "      <td>Datsun RediGO T Option</td>\n",
       "      <td>2017</td>\n",
       "      <td>250000</td>\n",
       "      <td>46000</td>\n",
       "      <td>1</td>\n",
       "      <td>0</td>\n",
       "      <td>0</td>\n",
       "      <td>0</td>\n",
       "    </tr>\n",
       "    <tr>\n",
       "      <th>4</th>\n",
       "      <td>Honda Amaze VX i-DTEC</td>\n",
       "      <td>2014</td>\n",
       "      <td>450000</td>\n",
       "      <td>141000</td>\n",
       "      <td>0</td>\n",
       "      <td>0</td>\n",
       "      <td>0</td>\n",
       "      <td>1</td>\n",
       "    </tr>\n",
       "  </tbody>\n",
       "</table>\n",
       "</div>"
      ],
      "text/plain": [
       "                       name  year  selling_price  km_driven  fuel  \\\n",
       "0             Maruti 800 AC  2007          60000      70000     1   \n",
       "1  Maruti Wagon R LXI Minor  2007         135000      50000     1   \n",
       "2      Hyundai Verna 1.6 SX  2012         600000     100000     0   \n",
       "3    Datsun RediGO T Option  2017         250000      46000     1   \n",
       "4     Honda Amaze VX i-DTEC  2014         450000     141000     0   \n",
       "\n",
       "   seller_type  transmission  owner  \n",
       "0            0             0      0  \n",
       "1            0             0      0  \n",
       "2            0             0      0  \n",
       "3            0             0      0  \n",
       "4            0             0      1  "
      ]
     },
     "execution_count": 88,
     "metadata": {},
     "output_type": "execute_result"
    }
   ],
   "source": [
    "car_dataset.head()"
   ]
  },
  {
   "cell_type": "markdown",
   "id": "8eb611c4-f1b3-40fd-a2c5-7ef1249bf90a",
   "metadata": {},
   "source": [
    "## splitting the data into  data and target"
   ]
  },
  {
   "cell_type": "code",
   "execution_count": 89,
   "id": "126e280e-331c-4262-8463-8fae2c22596c",
   "metadata": {},
   "outputs": [],
   "source": [
    "x=car_dataset.drop(['name',\"selling_price\"],axis=1)\n",
    "y=car_dataset[\"selling_price\"]"
   ]
  },
  {
   "cell_type": "code",
   "execution_count": 90,
   "id": "098c6b7c-9622-4ef4-a881-69adf9bdd6e8",
   "metadata": {},
   "outputs": [
    {
     "data": {
      "text/html": [
       "<div>\n",
       "<style scoped>\n",
       "    .dataframe tbody tr th:only-of-type {\n",
       "        vertical-align: middle;\n",
       "    }\n",
       "\n",
       "    .dataframe tbody tr th {\n",
       "        vertical-align: top;\n",
       "    }\n",
       "\n",
       "    .dataframe thead th {\n",
       "        text-align: right;\n",
       "    }\n",
       "</style>\n",
       "<table border=\"1\" class=\"dataframe\">\n",
       "  <thead>\n",
       "    <tr style=\"text-align: right;\">\n",
       "      <th></th>\n",
       "      <th>year</th>\n",
       "      <th>km_driven</th>\n",
       "      <th>fuel</th>\n",
       "      <th>seller_type</th>\n",
       "      <th>transmission</th>\n",
       "      <th>owner</th>\n",
       "    </tr>\n",
       "  </thead>\n",
       "  <tbody>\n",
       "    <tr>\n",
       "      <th>0</th>\n",
       "      <td>2007</td>\n",
       "      <td>70000</td>\n",
       "      <td>1</td>\n",
       "      <td>0</td>\n",
       "      <td>0</td>\n",
       "      <td>0</td>\n",
       "    </tr>\n",
       "    <tr>\n",
       "      <th>1</th>\n",
       "      <td>2007</td>\n",
       "      <td>50000</td>\n",
       "      <td>1</td>\n",
       "      <td>0</td>\n",
       "      <td>0</td>\n",
       "      <td>0</td>\n",
       "    </tr>\n",
       "    <tr>\n",
       "      <th>2</th>\n",
       "      <td>2012</td>\n",
       "      <td>100000</td>\n",
       "      <td>0</td>\n",
       "      <td>0</td>\n",
       "      <td>0</td>\n",
       "      <td>0</td>\n",
       "    </tr>\n",
       "    <tr>\n",
       "      <th>3</th>\n",
       "      <td>2017</td>\n",
       "      <td>46000</td>\n",
       "      <td>1</td>\n",
       "      <td>0</td>\n",
       "      <td>0</td>\n",
       "      <td>0</td>\n",
       "    </tr>\n",
       "    <tr>\n",
       "      <th>4</th>\n",
       "      <td>2014</td>\n",
       "      <td>141000</td>\n",
       "      <td>0</td>\n",
       "      <td>0</td>\n",
       "      <td>0</td>\n",
       "      <td>1</td>\n",
       "    </tr>\n",
       "    <tr>\n",
       "      <th>...</th>\n",
       "      <td>...</td>\n",
       "      <td>...</td>\n",
       "      <td>...</td>\n",
       "      <td>...</td>\n",
       "      <td>...</td>\n",
       "      <td>...</td>\n",
       "    </tr>\n",
       "    <tr>\n",
       "      <th>4335</th>\n",
       "      <td>2014</td>\n",
       "      <td>80000</td>\n",
       "      <td>0</td>\n",
       "      <td>0</td>\n",
       "      <td>0</td>\n",
       "      <td>1</td>\n",
       "    </tr>\n",
       "    <tr>\n",
       "      <th>4336</th>\n",
       "      <td>2014</td>\n",
       "      <td>80000</td>\n",
       "      <td>0</td>\n",
       "      <td>0</td>\n",
       "      <td>0</td>\n",
       "      <td>1</td>\n",
       "    </tr>\n",
       "    <tr>\n",
       "      <th>4337</th>\n",
       "      <td>2009</td>\n",
       "      <td>83000</td>\n",
       "      <td>1</td>\n",
       "      <td>0</td>\n",
       "      <td>0</td>\n",
       "      <td>1</td>\n",
       "    </tr>\n",
       "    <tr>\n",
       "      <th>4338</th>\n",
       "      <td>2016</td>\n",
       "      <td>90000</td>\n",
       "      <td>0</td>\n",
       "      <td>0</td>\n",
       "      <td>0</td>\n",
       "      <td>0</td>\n",
       "    </tr>\n",
       "    <tr>\n",
       "      <th>4339</th>\n",
       "      <td>2016</td>\n",
       "      <td>40000</td>\n",
       "      <td>1</td>\n",
       "      <td>0</td>\n",
       "      <td>0</td>\n",
       "      <td>0</td>\n",
       "    </tr>\n",
       "  </tbody>\n",
       "</table>\n",
       "<p>4340 rows × 6 columns</p>\n",
       "</div>"
      ],
      "text/plain": [
       "      year  km_driven  fuel  seller_type  transmission  owner\n",
       "0     2007      70000     1            0             0      0\n",
       "1     2007      50000     1            0             0      0\n",
       "2     2012     100000     0            0             0      0\n",
       "3     2017      46000     1            0             0      0\n",
       "4     2014     141000     0            0             0      1\n",
       "...    ...        ...   ...          ...           ...    ...\n",
       "4335  2014      80000     0            0             0      1\n",
       "4336  2014      80000     0            0             0      1\n",
       "4337  2009      83000     1            0             0      1\n",
       "4338  2016      90000     0            0             0      0\n",
       "4339  2016      40000     1            0             0      0\n",
       "\n",
       "[4340 rows x 6 columns]"
      ]
     },
     "execution_count": 90,
     "metadata": {},
     "output_type": "execute_result"
    }
   ],
   "source": [
    "x"
   ]
  },
  {
   "cell_type": "code",
   "execution_count": 91,
   "id": "9c7d2bac-d5fd-469d-8823-85437b4e99c3",
   "metadata": {},
   "outputs": [
    {
     "data": {
      "text/plain": [
       "0        60000\n",
       "1       135000\n",
       "2       600000\n",
       "3       250000\n",
       "4       450000\n",
       "         ...  \n",
       "4335    409999\n",
       "4336    409999\n",
       "4337    110000\n",
       "4338    865000\n",
       "4339    225000\n",
       "Name: selling_price, Length: 4340, dtype: int64"
      ]
     },
     "execution_count": 91,
     "metadata": {},
     "output_type": "execute_result"
    }
   ],
   "source": [
    "y"
   ]
  },
  {
   "cell_type": "markdown",
   "id": "64ee3719-a2e8-494c-b0e3-0db85f516d61",
   "metadata": {},
   "source": [
    "## splitting the data into testing and training data"
   ]
  },
  {
   "cell_type": "code",
   "execution_count": 92,
   "id": "a4921504-50b0-4641-827c-e9e19c225d60",
   "metadata": {},
   "outputs": [],
   "source": [
    "x_train,x_test,y_train,y_test=train_test_split(x,y,test_size=0.2,random_state=2)"
   ]
  },
  {
   "cell_type": "code",
   "execution_count": 93,
   "id": "8abb5178-eb11-4990-8520-607156bafaa2",
   "metadata": {},
   "outputs": [
    {
     "name": "stdout",
     "output_type": "stream",
     "text": [
      "(4340, 6) (3472, 6) (868, 6)\n"
     ]
    }
   ],
   "source": [
    "print(x.shape,x_train.shape,x_test.shape)"
   ]
  },
  {
   "cell_type": "markdown",
   "id": "3ba98178-1afe-4df6-825d-b04a381cd316",
   "metadata": {},
   "source": [
    "# 1.linear regression"
   ]
  },
  {
   "cell_type": "code",
   "execution_count": 94,
   "id": "37f8c631-1a44-424d-a313-c668fefd2f2a",
   "metadata": {},
   "outputs": [],
   "source": [
    "# loading the linear regression model\n",
    "lin_reg_model=LinearRegression()"
   ]
  },
  {
   "cell_type": "code",
   "execution_count": 95,
   "id": "3d2b3e35-2130-4916-b963-37a01920db68",
   "metadata": {},
   "outputs": [
    {
     "data": {
      "text/html": [
       "<style>#sk-container-id-4 {color: black;background-color: white;}#sk-container-id-4 pre{padding: 0;}#sk-container-id-4 div.sk-toggleable {background-color: white;}#sk-container-id-4 label.sk-toggleable__label {cursor: pointer;display: block;width: 100%;margin-bottom: 0;padding: 0.3em;box-sizing: border-box;text-align: center;}#sk-container-id-4 label.sk-toggleable__label-arrow:before {content: \"▸\";float: left;margin-right: 0.25em;color: #696969;}#sk-container-id-4 label.sk-toggleable__label-arrow:hover:before {color: black;}#sk-container-id-4 div.sk-estimator:hover label.sk-toggleable__label-arrow:before {color: black;}#sk-container-id-4 div.sk-toggleable__content {max-height: 0;max-width: 0;overflow: hidden;text-align: left;background-color: #f0f8ff;}#sk-container-id-4 div.sk-toggleable__content pre {margin: 0.2em;color: black;border-radius: 0.25em;background-color: #f0f8ff;}#sk-container-id-4 input.sk-toggleable__control:checked~div.sk-toggleable__content {max-height: 200px;max-width: 100%;overflow: auto;}#sk-container-id-4 input.sk-toggleable__control:checked~label.sk-toggleable__label-arrow:before {content: \"▾\";}#sk-container-id-4 div.sk-estimator input.sk-toggleable__control:checked~label.sk-toggleable__label {background-color: #d4ebff;}#sk-container-id-4 div.sk-label input.sk-toggleable__control:checked~label.sk-toggleable__label {background-color: #d4ebff;}#sk-container-id-4 input.sk-hidden--visually {border: 0;clip: rect(1px 1px 1px 1px);clip: rect(1px, 1px, 1px, 1px);height: 1px;margin: -1px;overflow: hidden;padding: 0;position: absolute;width: 1px;}#sk-container-id-4 div.sk-estimator {font-family: monospace;background-color: #f0f8ff;border: 1px dotted black;border-radius: 0.25em;box-sizing: border-box;margin-bottom: 0.5em;}#sk-container-id-4 div.sk-estimator:hover {background-color: #d4ebff;}#sk-container-id-4 div.sk-parallel-item::after {content: \"\";width: 100%;border-bottom: 1px solid gray;flex-grow: 1;}#sk-container-id-4 div.sk-label:hover label.sk-toggleable__label {background-color: #d4ebff;}#sk-container-id-4 div.sk-serial::before {content: \"\";position: absolute;border-left: 1px solid gray;box-sizing: border-box;top: 0;bottom: 0;left: 50%;z-index: 0;}#sk-container-id-4 div.sk-serial {display: flex;flex-direction: column;align-items: center;background-color: white;padding-right: 0.2em;padding-left: 0.2em;position: relative;}#sk-container-id-4 div.sk-item {position: relative;z-index: 1;}#sk-container-id-4 div.sk-parallel {display: flex;align-items: stretch;justify-content: center;background-color: white;position: relative;}#sk-container-id-4 div.sk-item::before, #sk-container-id-4 div.sk-parallel-item::before {content: \"\";position: absolute;border-left: 1px solid gray;box-sizing: border-box;top: 0;bottom: 0;left: 50%;z-index: -1;}#sk-container-id-4 div.sk-parallel-item {display: flex;flex-direction: column;z-index: 1;position: relative;background-color: white;}#sk-container-id-4 div.sk-parallel-item:first-child::after {align-self: flex-end;width: 50%;}#sk-container-id-4 div.sk-parallel-item:last-child::after {align-self: flex-start;width: 50%;}#sk-container-id-4 div.sk-parallel-item:only-child::after {width: 0;}#sk-container-id-4 div.sk-dashed-wrapped {border: 1px dashed gray;margin: 0 0.4em 0.5em 0.4em;box-sizing: border-box;padding-bottom: 0.4em;background-color: white;}#sk-container-id-4 div.sk-label label {font-family: monospace;font-weight: bold;display: inline-block;line-height: 1.2em;}#sk-container-id-4 div.sk-label-container {text-align: center;}#sk-container-id-4 div.sk-container {/* jupyter's `normalize.less` sets `[hidden] { display: none; }` but bootstrap.min.css set `[hidden] { display: none !important; }` so we also need the `!important` here to be able to override the default hidden behavior on the sphinx rendered scikit-learn.org. See: https://github.com/scikit-learn/scikit-learn/issues/21755 */display: inline-block !important;position: relative;}#sk-container-id-4 div.sk-text-repr-fallback {display: none;}</style><div id=\"sk-container-id-4\" class=\"sk-top-container\"><div class=\"sk-text-repr-fallback\"><pre>LinearRegression()</pre><b>In a Jupyter environment, please rerun this cell to show the HTML representation or trust the notebook. <br />On GitHub, the HTML representation is unable to render, please try loading this page with nbviewer.org.</b></div><div class=\"sk-container\" hidden><div class=\"sk-item\"><div class=\"sk-estimator sk-toggleable\"><input class=\"sk-toggleable__control sk-hidden--visually\" id=\"sk-estimator-id-4\" type=\"checkbox\" checked><label for=\"sk-estimator-id-4\" class=\"sk-toggleable__label sk-toggleable__label-arrow\">LinearRegression</label><div class=\"sk-toggleable__content\"><pre>LinearRegression()</pre></div></div></div></div></div>"
      ],
      "text/plain": [
       "LinearRegression()"
      ]
     },
     "execution_count": 95,
     "metadata": {},
     "output_type": "execute_result"
    }
   ],
   "source": [
    "lin_reg_model.fit(x_train,y_train)"
   ]
  },
  {
   "cell_type": "markdown",
   "id": "60267bf2-1172-456f-bdbc-7e7a16c69cc9",
   "metadata": {},
   "source": [
    "## model evaluation"
   ]
  },
  {
   "cell_type": "code",
   "execution_count": 96,
   "id": "10993eee-a0cc-4ec7-a39b-3698a83c8917",
   "metadata": {},
   "outputs": [],
   "source": [
    "# prediction on training data\n",
    "training_data_pred=lin_reg_model.predict(x_train)"
   ]
  },
  {
   "cell_type": "code",
   "execution_count": 97,
   "id": "85481bf3-3d96-4662-8cc1-27c1d3601701",
   "metadata": {},
   "outputs": [
    {
     "data": {
      "text/plain": [
       "array([ 670520.81532709,  565757.5791575 , 1307208.45383596, ...,\n",
       "        532135.35068427,  403199.2013303 ,  546420.41405587])"
      ]
     },
     "execution_count": 97,
     "metadata": {},
     "output_type": "execute_result"
    }
   ],
   "source": [
    "training_data_pred"
   ]
  },
  {
   "cell_type": "code",
   "execution_count": 98,
   "id": "f94997c9-5aea-430d-be64-aff7ca530df9",
   "metadata": {},
   "outputs": [
    {
     "data": {
      "text/plain": [
       "0.43922410637048825"
      ]
     },
     "execution_count": 98,
     "metadata": {},
     "output_type": "execute_result"
    }
   ],
   "source": [
    "# r square error\n",
    "error_score=metrics.r2_score(y_train,training_data_pred)\n",
    "error_score"
   ]
  },
  {
   "cell_type": "markdown",
   "id": "ab7e7e40-3249-472b-96b8-48743c5cc4b0",
   "metadata": {},
   "source": [
    "## visualize the actual price and pricted prices"
   ]
  },
  {
   "cell_type": "code",
   "execution_count": 99,
   "id": "6e812274-381b-4213-b51d-bd0b0c4d35bd",
   "metadata": {},
   "outputs": [
    {
     "data": {
      "image/png": "[encoded data removed]",
      "text/plain": [
       "<Figure size 640x480 with 1 Axes>"
      ]
     },
     "metadata": {},
     "output_type": "display_data"
    }
   ],
   "source": [
    "plt.scatter(y_train,training_data_pred)\n",
    "plt.xlabel(\"actual prices\")\n",
    "plt.ylabel(\"predicted price\")\n",
    "plt.title(\"actual prices vs pricted prices\")\n",
    "plt.show()"
   ]
  },
  {
   "cell_type": "code",
   "execution_count": 100,
   "id": "24ad3a7b-1416-44a5-9c5f-6cc6e8fade25",
   "metadata": {},
   "outputs": [],
   "source": [
    "# prediction on test data\n",
    "testing_data_pred=lin_reg_model.predict(x_test)"
   ]
  },
  {
   "cell_type": "code",
   "execution_count": 115,
   "id": "d9d98eed-2fcb-47d9-a9bb-cd59c8ca4777",
   "metadata": {},
   "outputs": [
    {
     "data": {
      "text/plain": [
       "array([ 5.07366557e+05,  1.41601439e+06,  2.18977125e+05,  1.36930089e+06,\n",
       "        7.15894489e+05,  4.57937611e+05,  4.02736264e+05, -2.95304370e+04,\n",
       "        3.40368060e+05,  5.53448659e+05,  2.52623858e+05,  1.11048075e+05,\n",
       "        1.24028017e+06,  6.51396483e+05, -1.27996990e+05,  1.59580463e+06,\n",
       "        5.64105059e+05,  5.72588596e+05,  1.45334819e+06,  4.16156373e+05,\n",
       "        6.41457983e+05,  3.50640656e+05,  1.23224771e+05,  1.17548293e+06,\n",
       "        1.54853114e+06,  4.57937611e+05,  1.48339368e+06,  7.02508713e+05,\n",
       "        3.35723396e+05,  2.28328679e+05,  3.38450777e+05,  1.10792424e+05,\n",
       "        7.76819230e+05,  5.98198484e+05,  6.81923464e+04,  1.45334819e+06,\n",
       "        5.00668483e+05,  3.46384732e+05,  5.60643590e+05,  5.34315215e+05,\n",
       "        7.93600085e+05,  8.73003501e+05,  1.37375838e+06,  7.33601018e+05,\n",
       "        1.71862084e+06,  3.11904337e+05,  5.40397953e+05,  5.47332563e+05,\n",
       "        6.35411580e+05,  2.80035352e+05,  5.10496157e+05,  3.42908268e+05,\n",
       "        4.36382996e+05,  7.54437146e+05,  3.93286949e+05,  1.99602375e+05,\n",
       "        6.23369938e+05,  4.32790560e+05,  5.03311285e+05,  5.48684959e+05,\n",
       "        5.41244436e+05,  6.43974376e+05,  5.45555359e+05,  8.40855020e+05,\n",
       "        3.50093139e+05, -4.66275615e+04,  4.99463199e+05,  2.35526733e+05,\n",
       "        4.99463199e+05,  6.21445724e+05,  1.61876510e+05,  3.95551392e+05,\n",
       "        6.10651303e+05,  5.95239956e+05,  6.22419761e+05,  4.69396688e+05,\n",
       "        5.30555634e+05,  4.96126413e+05,  1.41601439e+06,  5.89113801e+05,\n",
       "        5.92980901e+05,  6.56151072e+05,  4.81841249e+05,  1.42230259e+06,\n",
       "        2.77770909e+05,  2.53488913e+05,  4.96210992e+05,  5.46042157e+05,\n",
       "        1.67593992e+06,  5.69787188e+05,  5.56907517e+05,  2.07250184e+05,\n",
       "        1.64056375e+05,  6.34596457e+05,  1.48364934e+06,  5.10580736e+05,\n",
       "        7.79230342e+05,  3.03282491e+05,  5.34399794e+05,  1.81994151e+05,\n",
       "        5.63531538e+05, -3.89797523e+04,  7.02508713e+05,  4.69664553e+05,\n",
       "        4.23085595e+05,  4.34203132e+05,  6.41301697e+05,  2.64739838e+05,\n",
       "        4.21474772e+05,  6.63075851e+05,  6.41307714e+05,  1.71862084e+06,\n",
       "        4.96210992e+05,  5.96445240e+05,  3.79782260e+05,  4.34203132e+05,\n",
       "        8.36073357e+05,  6.93506788e+05,  4.19833388e+05,  1.99602375e+05,\n",
       "        4.80478122e+05,  5.07366557e+05,  4.12563938e+05,  1.32876307e+06,\n",
       "        5.54138407e+05,  3.65327937e+05,  5.81094174e+05,  1.38057452e+05,\n",
       "        4.07193754e+05,  6.67793434e+05,  3.47450337e+05,  5.72588596e+05,\n",
       "        1.34439497e+06,  5.12395968e+05,  7.86641080e+05,  5.01131420e+05,\n",
       "        2.53866039e+05,  3.96525429e+05,  3.26358660e+05,  6.57479064e+05,\n",
       "        4.07728089e+05,  5.38589039e+05,  6.12169103e+04,  4.84105693e+05,\n",
       "        5.95599200e+05,  4.22013253e+05,  2.78707360e+05,  7.54546128e+05,\n",
       "        1.50016083e+05,  3.74837972e+05,  7.39708159e+05,  8.32251724e+05,\n",
       "        6.25147142e+05,  5.48684959e+05, -8.02980526e+04,  6.52449553e+05,\n",
       "        2.49896477e+05,  4.17568945e+05,  6.21299055e+05,  6.85353395e+05,\n",
       "        6.56151072e+05,  7.37449104e+05,  1.47692730e+06,  4.82160388e+05,\n",
       "        4.65122483e+05,  1.27703199e+06,  5.00583904e+05,  1.41379498e+06,\n",
       "        1.40442219e+06,  5.86958340e+05,  3.96950781e+05,  4.30526117e+05,\n",
       "        3.97281502e+05,  5.56890861e+05,  7.41041540e+05,  4.46441817e+05,\n",
       "        6.99978789e+05,  1.76246254e+05,  2.17309005e+05,  5.34399794e+05,\n",
       "        3.37135967e+05,  4.69664553e+05,  6.25509618e+05,  5.27214923e+05,\n",
       "        3.51114170e+05,  6.08512955e+05,  6.34596457e+05,  1.41656403e+06,\n",
       "        2.71535671e+05,  7.75424777e+05,  4.12648517e+05,  1.08405273e+05,\n",
       "        3.27711055e+05,  4.65207062e+05,  3.17513929e+05,  1.40927498e+06,\n",
       "        1.82968188e+05,  2.54888301e+05,  2.98862586e+05,  2.53829041e+05,\n",
       "        6.84890559e+05,  3.84867335e+05,  1.15212430e+05,  6.77705687e+05,\n",
       "        2.03647102e+05,  4.93946549e+05,  1.53631686e+06,  4.94811603e+05,\n",
       "        3.00261975e+05,  5.78977743e+05,  1.25489215e+05,  1.51829720e+06,\n",
       "        7.06445174e+05,  5.65319146e+05,  5.42681411e+05,  2.00065312e+05,\n",
       "        2.94807213e+05,  4.43652447e+05,  3.69349141e+04,  1.40991443e+06,\n",
       "        8.76543680e+04,  7.73073756e+05,  1.78997394e+05, -6.28119934e+04,\n",
       "        6.82757992e+05,  3.74715264e+05,  1.68598445e+05,  8.28196451e+05,\n",
       "        1.75783316e+05,  5.92706237e+05,  1.76246254e+05,  1.57112460e+06,\n",
       "       -1.51606937e+04,  1.16039899e+05,  1.41601439e+06,  7.39178885e+04,\n",
       "        1.47678194e+06,  4.76677912e+05,  4.29105343e+05,  4.98641118e+05,\n",
       "        4.65122483e+05,  8.81217833e+05,  4.81841249e+05,  1.69926437e+05,\n",
       "        4.34458681e+05,  5.24409585e+05,  5.13832942e+05,  6.82662661e+05,\n",
       "        3.71734826e+05,  1.55617885e+06,  3.29086041e+05,  3.81849688e+05,\n",
       "        7.70594388e+05,  4.21100560e+05,  2.84193238e+05,  1.71971137e+06,\n",
       "        5.10580736e+05, -8.36349388e+04,  2.32883931e+05, -1.08635422e+05,\n",
       "        1.46974243e+06,  3.67884348e+05,  3.29733959e+05,  2.70834817e+04,\n",
       "        2.07250184e+05,  4.75181303e+05,  3.36186334e+05,  6.17962270e+05,\n",
       "        1.51112385e+05,  6.74467106e+05,  7.17794300e+05,  4.12563938e+05,\n",
       "        3.12451854e+05,  5.83744161e+05,  6.08512955e+05,  5.52277394e+05,\n",
       "        6.39392135e+03,  4.67386926e+05,  1.63204503e+05,  3.40368060e+05,\n",
       "        3.98194194e+05,  5.59802395e+05,  3.64462883e+05,  1.31569681e+06,\n",
       "        1.65005580e+06,  5.45092523e+05,  8.19259320e+05,  1.35304496e+06,\n",
       "        6.45046717e+05,  5.10117798e+05,  3.81560007e+05,  2.49433539e+05,\n",
       "        4.19370451e+05,  9.94057123e+04,  5.06903721e+05,  5.10580736e+05,\n",
       "        6.41229130e+05, -4.66275615e+04,  1.93234295e+05,  4.72391934e+05,\n",
       "        2.49896477e+05,  4.19748809e+05,  4.79576805e+05, -3.53873165e+04,\n",
       "        5.31929250e+05, -7.04466202e+04,  4.02736264e+05,  6.11434788e+05,\n",
       "       -3.89797523e+04,  4.72910165e+05,  3.67190264e+05,  1.24350797e+06,\n",
       "       -2.63655074e+05,  4.41197858e+04,  3.95551392e+05,  4.99718849e+05,\n",
       "       -7.90950330e+02,  1.54781266e+06,  3.90984919e+05,  1.02133093e+05,\n",
       "        3.53661172e+05,  1.45034328e+06,  4.58400448e+05,  3.77967571e+05,\n",
       "        1.41373812e+06,  7.86415214e+05,  1.68727046e+06,  6.92538267e+05,\n",
       "        2.68473449e+05,  3.60089971e+05,  6.98033844e+05,  6.09942875e+05,\n",
       "        9.47966697e+04,  1.10585137e+05,  4.19748809e+05,  4.53626688e+05,\n",
       "        7.86641080e+05,  1.44779386e+05,  2.35989671e+05,  3.42529909e+05,\n",
       "        3.45720228e+05,  2.58602902e+05,  4.88941542e+05,  4.41388003e+05,\n",
       "        3.62269836e+05,  1.14057020e+06,  6.53570258e+05,  4.52638825e+05,\n",
       "        1.59103087e+06,  4.69409003e+05,  2.73715535e+05,  8.20037442e+05,\n",
       "        5.30555634e+05,  5.80127323e+05,  7.38314159e+05,  1.47010167e+06,\n",
       "       -1.32454481e+05,  6.23155854e+05,  1.40321895e+05,  4.18907513e+05,\n",
       "        4.23341245e+05,  6.65344737e+05,  5.80127323e+05,  5.62104424e+05,\n",
       "        3.71732333e+05, -9.82602318e+04,  5.84830540e+05,  8.19921766e+05,\n",
       "        3.32484815e+05,  4.73604355e+05,  5.62675269e+05,  3.12451854e+05,\n",
       "        4.23085595e+05, -3.16213619e+05,  5.24487541e+05,  3.82425062e+05,\n",
       "        1.45034328e+06,  4.95407926e+05,  5.44374036e+05,  6.41301697e+05,\n",
       "        3.25920492e+05,  5.06160831e+05,  5.24950479e+05,  5.65403725e+05,\n",
       "        4.07728089e+05,  1.59149129e+05,  2.13412780e+05,  3.83715368e+05,\n",
       "        9.72258478e+04,  6.19290161e+05,  3.56497535e+05,  6.32332013e+05,\n",
       "        2.05070320e+05,  5.49147795e+05,  5.11201842e+05,  5.52470956e+05,\n",
       "       -2.18781380e+05,  5.72588596e+05,  6.57479064e+05,  1.98257958e+05,\n",
       "        4.14000912e+05,  3.42682525e+04,  5.11933131e+05,  4.81841249e+05,\n",
       "        7.44633976e+05,  8.65836496e+03,  4.80441860e+05,  6.68256271e+05,\n",
       "        6.08975791e+05,  1.54134627e+06,  3.82741331e+05,  9.26837782e+04,\n",
       "        6.47164593e+05,  3.19089209e+05,  5.01131420e+05,  1.39928369e+06,\n",
       "        4.27845729e+05,  1.41806351e+06,  4.81841249e+05,  1.47312426e+04,\n",
       "        4.76830853e+05,  4.40778498e+05,  3.20360269e+03,  6.35924449e+05,\n",
       "        5.10136913e+05,  5.69787188e+05,  3.43924198e+04,  5.77046087e+05,\n",
       "        1.04660877e+06,  8.75469936e+05,  4.89026121e+05,  2.36939305e+05,\n",
       "        5.32135351e+05,  1.43421203e+06,  7.21642386e+05,  3.91093902e+05,\n",
       "        5.45092523e+05,  2.30281083e+04,  5.15038226e+05,  2.57237324e+05,\n",
       "        6.57479064e+05,  5.19945472e+05,  5.91647520e+05,  5.59802395e+05,\n",
       "        7.89029919e+05,  2.76442916e+05,  4.58022190e+05,  5.55422344e+05,\n",
       "        5.53714369e+05,  5.96279794e+04,  3.79319322e+05,  6.12169103e+04,\n",
       "        4.30526117e+05,  1.36235368e+05,  6.19692379e+05,  5.58837111e+05,\n",
       "        3.97475707e+05,  6.25147142e+05,  5.20917741e+05,  1.14238393e+05,\n",
       "        3.33056734e+05,  5.17302670e+05, -3.36064490e+05,  3.36186334e+05,\n",
       "        5.14088592e+05,  4.58022190e+05,  4.05463645e+05, -9.10589698e+03,\n",
       "        1.08207019e+06,  3.40180887e+05,  4.23341245e+05,  5.99635458e+05,\n",
       "       -1.16209229e+05,  1.17502846e+06,  4.67386926e+05,  6.77705687e+05,\n",
       "        4.65207062e+05,  3.46963641e+05,  1.68727046e+06,  1.64682261e+06,\n",
       "        4.19285872e+05,  1.54853114e+06, -8.48163635e+04,  7.79230342e+05,\n",
       "        3.93311352e+05,  6.56744009e+04,  7.90007649e+05,  5.00668483e+05,\n",
       "        5.67194553e+05,  3.95551392e+05,  6.68256372e+05,  6.32332013e+05,\n",
       "       -2.89667179e+05,  4.51749079e+05,  2.42196812e+05,  5.96279794e+04,\n",
       "        8.62635731e+05,  8.39391234e+04,  1.38057452e+05,  4.53171789e+05,\n",
       "        4.65840970e+05,  3.74375136e+05,  4.44261952e+05,  5.47223581e+05,\n",
       "        6.12169103e+04,  3.33543531e+05,  5.96043022e+05,  1.33821238e+06,\n",
       "       -3.04036923e+05,  1.40522525e+06,  5.47710821e+05,  4.23341245e+05,\n",
       "        5.09753266e+05,  6.92075430e+05,  2.77354965e+05,  2.30690884e+05,\n",
       "        2.57165927e+05,  6.00865145e+05,  2.28341862e+05,  3.13719026e+05,\n",
       "        1.42514942e+05,  1.45034328e+06,  3.42682525e+04,  6.85353395e+05,\n",
       "       -2.49639644e+04,  5.52133697e+05,  5.65063495e+05,  1.55477277e+06,\n",
       "        6.14260852e+05,  4.89026121e+05,  3.38450777e+05,  3.57362590e+05,\n",
       "        4.43567868e+05,  5.93268296e+05,  6.71702139e+05,  2.61245704e+05,\n",
       "        5.80127323e+05, -7.44411732e+04,  2.45438986e+05,  6.45046717e+05,\n",
       "        5.74635076e+05,  3.62307421e+05,  3.52048047e+04, -1.49004089e+05,\n",
       "        1.71862084e+06,  1.38057452e+05,  4.40925066e+05,  5.63139281e+05,\n",
       "        2.96328766e+05,  1.90153060e+05,  1.23687708e+05,  6.85353395e+05,\n",
       "        7.28640582e+05,  3.05182403e+05,  1.44376791e+06, -8.64420720e+04,\n",
       "        4.01252328e+04,  2.47582177e+04,  3.66348968e+05,  1.40011860e+06,\n",
       "        7.67923805e+04,  4.72307355e+05,  1.33137024e+05,  4.57559253e+05,\n",
       "        5.84693896e+05,  3.71732333e+05,  5.10117798e+05,  5.05466746e+05,\n",
       "        4.34203132e+05,  4.14378626e+05,  2.52623858e+05,  1.43821283e+05,\n",
       "        5.38394347e+05,  3.96648137e+05,  1.47010167e+06,  5.31929250e+05,\n",
       "        1.33461292e+06, -1.06370979e+05,  4.69664553e+05,  5.31563330e+05,\n",
       "        3.86173474e+05,  1.44779386e+05,  1.68798895e+06,  2.23884371e+05,\n",
       "        2.97997532e+05,  1.44779386e+05,  6.36387286e+05,  3.55694469e+05,\n",
       "        5.28842629e+05,  4.16156373e+05,  5.41584666e+05,  1.48916599e+06,\n",
       "        1.87973195e+05,  1.59149129e+05,  4.95029568e+05,  7.29468507e+05,\n",
       "        4.68714919e+05,  1.47010167e+06,  1.16639815e+06,  7.21788954e+05,\n",
       "        2.47745356e+05,  5.46042157e+05,  4.66873436e+05,  6.03592527e+05,\n",
       "        2.53744462e+05,  5.84230959e+05,  3.06643136e+05,  3.02129800e+04,\n",
       "        6.01328083e+05,  9.26836773e+04,  5.34399794e+05,  1.06127646e+05,\n",
       "        5.30273024e+05,  4.43567868e+05,  4.30937642e+05,  6.34596457e+05,\n",
       "        4.40925066e+05,  4.41388003e+05,  6.48857218e+05,  5.54971721e+05,\n",
       "        7.12771356e+05,  1.29784372e+06,  9.89051894e+04,  4.97076047e+05,\n",
       "        4.05379066e+05,  3.85383590e+05,  4.19748809e+05,  6.77705687e+05,\n",
       "        4.72391934e+05,  7.82822778e+05,  1.16039899e+05,  5.41584666e+05,\n",
       "        4.25180337e+05,  1.56793030e+06,  1.45471332e+06,  3.81560007e+05,\n",
       "        4.93483611e+05,  3.90791130e+05,  4.23341245e+05,  5.03311285e+05,\n",
       "        7.86641080e+05,  4.90756230e+05,  5.03311285e+05,  5.59802241e+05,\n",
       "        6.63335944e+05,  6.44833690e+05,  9.40116695e+04,  4.81751592e+04,\n",
       "        9.39509500e+04,  2.35989671e+05,  3.86589417e+05,  5.03311285e+05,\n",
       "        9.00409761e+04,  9.26837782e+04,  5.62817171e+05,  4.92533977e+05,\n",
       "        2.74855989e+04,  3.26540774e+05,  5.17675950e+04,  2.07636647e+04,\n",
       "        6.99260302e+05,  2.91531147e+05,  7.20351980e+05,  1.40406905e+05,\n",
       "        9.05036892e+05,  6.38542747e+05,  2.08274537e+05,  5.65403725e+05,\n",
       "        7.55411283e+05,  5.08341544e+05,  2.34089759e+05,  1.40395889e+06,\n",
       "        7.79331025e+03,  7.41041540e+05,  1.39408331e+06,  6.92538267e+05,\n",
       "       -9.10753602e+04,  2.52623858e+05,  6.67793434e+05,  7.90007649e+05,\n",
       "        5.84031556e+05,  2.75530224e+05,  4.38122514e+05,  6.01790920e+05,\n",
       "        4.68690415e+05,  4.95748055e+05,  5.90477105e+05,  1.60468213e+06,\n",
       "        1.04441573e+06,  4.26933681e+05,  2.07141101e+05, -1.81822708e+05,\n",
       "        4.62479681e+05,  2.71072733e+05,  9.67726886e+04,  5.91415830e+05,\n",
       "       -2.32000437e+04, -3.67153087e+04, -1.53083221e+05,  7.79948829e+05,\n",
       "        6.48857218e+05,  1.66334001e+05,  4.39706056e+05,  1.63784152e+06,\n",
       "        2.70988154e+05, -1.65188521e+05,  3.11904337e+05,  5.06903721e+05,\n",
       "        3.07446847e+05,  1.50426460e+05,  5.27130344e+05, -2.23455654e+04,\n",
       "        4.12648517e+05,  1.11048075e+05,  4.33655615e+05,  4.07985206e+05,\n",
       "        6.74978306e+05,  1.59149129e+05,  4.00543217e+05,  3.44722956e+05,\n",
       "        1.38057452e+05,  4.65585320e+05,  1.18951245e+06,  7.86641080e+05,\n",
       "        5.69787188e+05,  1.43350180e+06,  4.86761677e+05,  4.58022190e+05,\n",
       "        4.50752740e+05,  5.93340145e+05,  5.02483715e+05,  7.93222292e+05,\n",
       "        4.50752740e+05,  8.62635731e+05,  5.52764091e+05,  6.93506788e+05,\n",
       "        4.50265399e+05,  2.13972118e+05,  5.90466196e+05,  6.50403175e+05,\n",
       "        5.24487541e+05,  8.15154599e+05,  6.12169103e+04,  8.78343885e+05,\n",
       "        1.99602375e+05, -3.04571257e+05,  6.99260302e+05,  6.84890559e+05,\n",
       "        6.08512955e+05, -1.53546158e+05,  7.44633976e+05,  3.00408543e+05,\n",
       "        5.14807080e+05,  4.43652447e+05,  7.51818847e+05,  1.44172143e+06,\n",
       "        4.60286634e+05,  5.10580736e+05,  7.52796919e+04, -1.22079290e+05,\n",
       "        5.24487541e+05,  1.51598116e+06,  4.57242883e+05,  6.01328083e+05,\n",
       "        5.03311285e+05,  4.22097832e+05,  5.03395864e+05,  4.43567868e+05,\n",
       "        6.56504927e+05,  4.26933681e+05,  2.41870309e+05,  3.46704705e+04,\n",
       "        3.30901273e+05,  6.15234889e+05,  7.69318089e+05,  5.86958340e+05,\n",
       "        6.04457581e+05,  7.70717478e+05,  6.44833690e+05,  3.02539601e+05,\n",
       "        1.71971137e+06,  4.68714919e+05,  2.72278561e+05,  7.24260684e+05,\n",
       "        5.24950479e+05,  4.41388003e+05,  1.35545608e+06,  1.55571602e+06,\n",
       "        1.28608137e+05,  5.13370105e+05, -9.61047703e+04,  5.59948962e+05,\n",
       "        1.11482737e+06,  4.64584527e+05,  3.44670851e+05,  6.28739577e+05,\n",
       "        4.94275721e+05,  5.96407655e+05,  3.29866517e+05,  1.39436337e+06,\n",
       "        6.11434788e+05,  6.31466858e+05,  2.52623858e+05,  3.67274843e+05,\n",
       "        3.45635649e+05,  5.58828358e+05,  7.31445556e+05,  6.29455546e+05,\n",
       "        4.56013296e+05,  8.23547970e+05,  6.29202414e+05,  3.52820520e+05,\n",
       "        1.71971137e+06,  2.97534594e+05,  1.66334001e+05,  3.26254966e+05,\n",
       "        7.62449486e+05, -6.48127765e+03,  1.34588395e+06, -1.87277470e+05,\n",
       "        6.92221998e+05,  4.67553974e+05,  7.83140348e+04,  1.39198559e+06,\n",
       "        1.48606035e+06,  8.17242527e+05,  7.52237856e+05,  3.71732333e+05,\n",
       "       -3.45050867e+05,  6.39516885e+05,  3.29001462e+05,  1.06590584e+05,\n",
       "        3.54172271e+05,  1.55477277e+06,  7.42941351e+05,  2.81294273e+05,\n",
       "       -1.81822708e+05,  6.79033679e+05,  7.47707076e+05, -5.71137840e+03,\n",
       "        1.49634583e+06,  1.32157820e+06,  1.40927498e+06,  3.38411619e+05,\n",
       "        1.61876510e+05,  6.95667866e+05,  2.72485848e+05,  6.77705687e+05,\n",
       "        4.33740194e+05,  1.38993903e+05,  4.14378626e+05,  2.97500425e+04,\n",
       "        5.56588217e+05,  1.66334001e+05,  3.48131239e+05,  1.37594514e+05,\n",
       "        4.60452316e+05, -3.94426899e+04,  7.17331463e+05,  2.01393305e+05,\n",
       "        5.74209862e+05,  1.19632335e+05,  4.92533977e+05,  3.67325365e+05,\n",
       "        9.22130115e+05,  5.72163244e+05,  5.02375815e+05,  5.03311285e+05])"
      ]
     },
     "execution_count": 115,
     "metadata": {},
     "output_type": "execute_result"
    }
   ],
   "source": [
    "testing_data_pred"
   ]
  },
  {
   "cell_type": "code",
   "execution_count": 102,
   "id": "dce96f50-662e-4f85-936a-564f46beae50",
   "metadata": {},
   "outputs": [
    {
     "data": {
      "text/plain": [
       "0.49988298730549363"
      ]
     },
     "execution_count": 102,
     "metadata": {},
     "output_type": "execute_result"
    }
   ],
   "source": [
    "# r square error\n",
    "error_score=metrics.r2_score(y_test,testing_data_pred)\n",
    "error_score"
   ]
  },
  {
   "cell_type": "markdown",
   "id": "7787f3c4-9892-4d13-a616-59d4a427e44a",
   "metadata": {},
   "source": [
    "### visualize on test data"
   ]
  },
  {
   "cell_type": "code",
   "execution_count": 103,
   "id": "99886340-c020-4cbb-968c-eaf349171b65",
   "metadata": {},
   "outputs": [
    {
     "data": {
      "image/png": "[encoded data removed]",
      "text/plain": [
       "<Figure size 640x480 with 1 Axes>"
      ]
     },
     "metadata": {},
     "output_type": "display_data"
    }
   ],
   "source": [
    "plt.scatter(y_test,testing_data_pred)\n",
    "plt.xlabel(\"actual prices\")\n",
    "plt.ylabel(\"predicted price\")\n",
    "plt.title(\"actual prices vs pricted prices\")\n",
    "plt.show()"
   ]
  },
  {
   "cell_type": "markdown",
   "id": "b6dcdb24-f582-470f-aadd-59adc899c094",
   "metadata": {},
   "source": [
    "# 2.lasso regression"
   ]
  },
  {
   "cell_type": "code",
   "execution_count": 104,
   "id": "751e9bf7-62b4-4ab9-a365-94bffa4d1969",
   "metadata": {},
   "outputs": [],
   "source": [
    "lass_reg_model=Lasso()"
   ]
  },
  {
   "cell_type": "code",
   "execution_count": 105,
   "id": "9fc00b43-d3ea-48dc-ab1c-938f0006a320",
   "metadata": {},
   "outputs": [
    {
     "data": {
      "text/html": [
       "<style>#sk-container-id-5 {color: black;background-color: white;}#sk-container-id-5 pre{padding: 0;}#sk-container-id-5 div.sk-toggleable {background-color: white;}#sk-container-id-5 label.sk-toggleable__label {cursor: pointer;display: block;width: 100%;margin-bottom: 0;padding: 0.3em;box-sizing: border-box;text-align: center;}#sk-container-id-5 label.sk-toggleable__label-arrow:before {content: \"▸\";float: left;margin-right: 0.25em;color: #696969;}#sk-container-id-5 label.sk-toggleable__label-arrow:hover:before {color: black;}#sk-container-id-5 div.sk-estimator:hover label.sk-toggleable__label-arrow:before {color: black;}#sk-container-id-5 div.sk-toggleable__content {max-height: 0;max-width: 0;overflow: hidden;text-align: left;background-color: #f0f8ff;}#sk-container-id-5 div.sk-toggleable__content pre {margin: 0.2em;color: black;border-radius: 0.25em;background-color: #f0f8ff;}#sk-container-id-5 input.sk-toggleable__control:checked~div.sk-toggleable__content {max-height: 200px;max-width: 100%;overflow: auto;}#sk-container-id-5 input.sk-toggleable__control:checked~label.sk-toggleable__label-arrow:before {content: \"▾\";}#sk-container-id-5 div.sk-estimator input.sk-toggleable__control:checked~label.sk-toggleable__label {background-color: #d4ebff;}#sk-container-id-5 div.sk-label input.sk-toggleable__control:checked~label.sk-toggleable__label {background-color: #d4ebff;}#sk-container-id-5 input.sk-hidden--visually {border: 0;clip: rect(1px 1px 1px 1px);clip: rect(1px, 1px, 1px, 1px);height: 1px;margin: -1px;overflow: hidden;padding: 0;position: absolute;width: 1px;}#sk-container-id-5 div.sk-estimator {font-family: monospace;background-color: #f0f8ff;border: 1px dotted black;border-radius: 0.25em;box-sizing: border-box;margin-bottom: 0.5em;}#sk-container-id-5 div.sk-estimator:hover {background-color: #d4ebff;}#sk-container-id-5 div.sk-parallel-item::after {content: \"\";width: 100%;border-bottom: 1px solid gray;flex-grow: 1;}#sk-container-id-5 div.sk-label:hover label.sk-toggleable__label {background-color: #d4ebff;}#sk-container-id-5 div.sk-serial::before {content: \"\";position: absolute;border-left: 1px solid gray;box-sizing: border-box;top: 0;bottom: 0;left: 50%;z-index: 0;}#sk-container-id-5 div.sk-serial {display: flex;flex-direction: column;align-items: center;background-color: white;padding-right: 0.2em;padding-left: 0.2em;position: relative;}#sk-container-id-5 div.sk-item {position: relative;z-index: 1;}#sk-container-id-5 div.sk-parallel {display: flex;align-items: stretch;justify-content: center;background-color: white;position: relative;}#sk-container-id-5 div.sk-item::before, #sk-container-id-5 div.sk-parallel-item::before {content: \"\";position: absolute;border-left: 1px solid gray;box-sizing: border-box;top: 0;bottom: 0;left: 50%;z-index: -1;}#sk-container-id-5 div.sk-parallel-item {display: flex;flex-direction: column;z-index: 1;position: relative;background-color: white;}#sk-container-id-5 div.sk-parallel-item:first-child::after {align-self: flex-end;width: 50%;}#sk-container-id-5 div.sk-parallel-item:last-child::after {align-self: flex-start;width: 50%;}#sk-container-id-5 div.sk-parallel-item:only-child::after {width: 0;}#sk-container-id-5 div.sk-dashed-wrapped {border: 1px dashed gray;margin: 0 0.4em 0.5em 0.4em;box-sizing: border-box;padding-bottom: 0.4em;background-color: white;}#sk-container-id-5 div.sk-label label {font-family: monospace;font-weight: bold;display: inline-block;line-height: 1.2em;}#sk-container-id-5 div.sk-label-container {text-align: center;}#sk-container-id-5 div.sk-container {/* jupyter's `normalize.less` sets `[hidden] { display: none; }` but bootstrap.min.css set `[hidden] { display: none !important; }` so we also need the `!important` here to be able to override the default hidden behavior on the sphinx rendered scikit-learn.org. See: https://github.com/scikit-learn/scikit-learn/issues/21755 */display: inline-block !important;position: relative;}#sk-container-id-5 div.sk-text-repr-fallback {display: none;}</style><div id=\"sk-container-id-5\" class=\"sk-top-container\"><div class=\"sk-text-repr-fallback\"><pre>Lasso()</pre><b>In a Jupyter environment, please rerun this cell to show the HTML representation or trust the notebook. <br />On GitHub, the HTML representation is unable to render, please try loading this page with nbviewer.org.</b></div><div class=\"sk-container\" hidden><div class=\"sk-item\"><div class=\"sk-estimator sk-toggleable\"><input class=\"sk-toggleable__control sk-hidden--visually\" id=\"sk-estimator-id-5\" type=\"checkbox\" checked><label for=\"sk-estimator-id-5\" class=\"sk-toggleable__label sk-toggleable__label-arrow\">Lasso</label><div class=\"sk-toggleable__content\"><pre>Lasso()</pre></div></div></div></div></div>"
      ],
      "text/plain": [
       "Lasso()"
      ]
     },
     "execution_count": 105,
     "metadata": {},
     "output_type": "execute_result"
    }
   ],
   "source": [
    "lass_reg_model.fit(x_train,y_train)"
   ]
  },
  {
   "cell_type": "markdown",
   "id": "6a759ba9-fb1f-4673-97b2-f2193a44a1fd",
   "metadata": {},
   "source": [
    "## model evaluation"
   ]
  },
  {
   "cell_type": "code",
   "execution_count": 106,
   "id": "a134e270-8ca8-440f-be14-80a5ea509b69",
   "metadata": {},
   "outputs": [],
   "source": [
    "# prediction on training data\n",
    "training_data_prediction=lass_reg_model.predict(x_train)"
   ]
  },
  {
   "cell_type": "code",
   "execution_count": 107,
   "id": "aa87570d-56b8-4bd2-88c9-0e10f8de7851",
   "metadata": {},
   "outputs": [
    {
     "data": {
      "text/plain": [
       "array([ 670521.11940075,  565753.80061769, 1307201.91802001, ...,\n",
       "        532134.53725594,  403197.53913096,  546423.05089927])"
      ]
     },
     "execution_count": 107,
     "metadata": {},
     "output_type": "execute_result"
    }
   ],
   "source": [
    "training_data_prediction"
   ]
  },
  {
   "cell_type": "code",
   "execution_count": 108,
   "id": "f599b1aa-74ae-43c9-9beb-2fcbfc283a77",
   "metadata": {},
   "outputs": [
    {
     "data": {
      "text/plain": [
       "0.43922410631884656"
      ]
     },
     "execution_count": 108,
     "metadata": {},
     "output_type": "execute_result"
    }
   ],
   "source": [
    "# r square error\n",
    "error_score=metrics.r2_score(y_train,training_data_prediction)\n",
    "error_score"
   ]
  },
  {
   "cell_type": "markdown",
   "id": "642924d0-d92b-4ac7-90a6-24046660475e",
   "metadata": {},
   "source": [
    "## visualize the actual price and pricted prices"
   ]
  },
  {
   "cell_type": "code",
   "execution_count": 109,
   "id": "4e9c8c5c-ae67-4b91-93d4-01a8805a4e39",
   "metadata": {},
   "outputs": [
    {
     "data": {
      "image/png": "[encoded data removed]",
      "text/plain": [
       "<Figure size 640x480 with 1 Axes>"
      ]
     },
     "metadata": {},
     "output_type": "display_data"
    }
   ],
   "source": [
    "plt.scatter(y_train,training_data_prediction)\n",
    "plt.xlabel(\"actual prices\")\n",
    "plt.ylabel(\"predicted price\")\n",
    "plt.title(\"actual prices vs pricted prices\")\n",
    "plt.show()"
   ]
  },
  {
   "cell_type": "code",
   "execution_count": 110,
   "id": "2474ff7f-57e2-4818-ae9f-ffc3702299dd",
   "metadata": {},
   "outputs": [],
   "source": [
    "# prediction on testing data\n",
    "testing_data_prediction=lass_reg_model.predict(x_test)"
   ]
  },
  {
   "cell_type": "code",
   "execution_count": 111,
   "id": "38a101a9-1df0-4f66-905b-120fa11ddf17",
   "metadata": {},
   "outputs": [
    {
     "data": {
      "text/plain": [
       "array([ 5.07367080e+05,  1.41600518e+06,  2.18976159e+05,  1.36929032e+06,\n",
       "        7.15895077e+05,  4.57941093e+05,  4.02736699e+05, -2.95282414e+04,\n",
       "        3.40367453e+05,  5.53449467e+05,  2.52625929e+05,  1.11052956e+05,\n",
       "        1.24027334e+06,  6.51393270e+05, -1.27991965e+05,  1.59579197e+06,\n",
       "        5.64101279e+05,  5.72588329e+05,  1.45333927e+06,  4.16159572e+05,\n",
       "        6.41456113e+05,  3.50638707e+05,  1.23228090e+05,  1.17547096e+06,\n",
       "        1.54852144e+06,  4.57941093e+05,  1.48338018e+06,  7.02505787e+05,\n",
       "        3.35728129e+05,  2.28335860e+05,  3.38453678e+05,  1.10794062e+05,\n",
       "        7.76816864e+05,  5.98194984e+05,  6.81897715e+04,  1.45333927e+06,\n",
       "        5.00669489e+05,  3.46380066e+05,  5.60644400e+05,  5.34319258e+05,\n",
       "        7.93600971e+05,  8.72998461e+05,  1.37374965e+06,  7.33598369e+05,\n",
       "        1.71860578e+06,  3.11908795e+05,  5.40397143e+05,  5.47332021e+05,\n",
       "        6.35408361e+05,  2.80037699e+05,  5.10499925e+05,  3.42913004e+05,\n",
       "        4.36386468e+05,  7.54434506e+05,  3.93287115e+05,  1.99606256e+05,\n",
       "        6.23371304e+05,  4.32794031e+05,  5.03315050e+05,  5.48689008e+05,\n",
       "        5.41245238e+05,  6.43976236e+05,  5.45556163e+05,  8.40849702e+05,\n",
       "        3.50097878e+05, -4.66235405e+04,  4.99463718e+05,  2.35530630e+05,\n",
       "        4.99463718e+05,  6.21445478e+05,  1.61878013e+05,  3.95551824e+05,\n",
       "        6.10647809e+05,  5.95241046e+05,  6.22421612e+05,  4.69394172e+05,\n",
       "        5.30553187e+05,  4.96130175e+05,  1.41600518e+06,  5.89113541e+05,\n",
       "        5.92985234e+05,  6.56151370e+05,  4.81840414e+05,  1.42229339e+06,\n",
       "        2.77772990e+05,  2.53492816e+05,  4.96210164e+05,  5.46043446e+05,\n",
       "        1.67592965e+06,  5.69784759e+05,  5.56904264e+05,  2.07251971e+05,\n",
       "        1.64062735e+05,  6.34596746e+05,  1.48363908e+06,  5.10579913e+05,\n",
       "        7.79231221e+05,  3.03286946e+05,  5.34399247e+05,  1.81995663e+05,\n",
       "        5.63541356e+05, -3.89778254e+04,  7.02505787e+05,  4.69665281e+05,\n",
       "        4.23085552e+05,  4.34201747e+05,  6.41310666e+05,  2.64738670e+05,\n",
       "        4.21469873e+05,  6.63076152e+05,  6.41304232e+05,  1.71860578e+06,\n",
       "        4.96210164e+05,  5.96446816e+05,  3.79784253e+05,  4.34201747e+05,\n",
       "        8.36071281e+05,  6.93503857e+05,  4.19831998e+05,  1.99606256e+05,\n",
       "        4.80478368e+05,  5.07367080e+05,  4.12567135e+05,  1.32875654e+06,\n",
       "        5.54139215e+05,  3.65334515e+05,  5.81092500e+05,  1.38058680e+05,\n",
       "        4.07196024e+05,  6.67795570e+05,  3.47452317e+05,  5.72588329e+05,\n",
       "        1.34438871e+06,  5.12396493e+05,  7.86635475e+05,  5.01130329e+05,\n",
       "        2.53865773e+05,  3.96527959e+05,  3.26358533e+05,  6.57479098e+05,\n",
       "        4.07726958e+05,  5.38586596e+05,  6.12196738e+04,  4.84105124e+05,\n",
       "        5.95600289e+05,  4.22016719e+05,  2.78709971e+05,  7.54543753e+05,\n",
       "        1.50014072e+05,  3.74837645e+05,  7.39705513e+05,  8.32249647e+05,\n",
       "        6.25147162e+05,  5.48689008e+05, -8.02985053e+04,  6.52448438e+05,\n",
       "        2.49900379e+05,  4.17567289e+05,  6.21295830e+05,  6.85350462e+05,\n",
       "        6.56151370e+05,  7.37449701e+05,  1.47691380e+06,  4.82156309e+05,\n",
       "        4.65125967e+05,  1.27702544e+06,  5.00589501e+05,  1.41378578e+06,\n",
       "        1.40441622e+06,  5.86958079e+05,  3.96949646e+05,  4.30529322e+05,\n",
       "        3.97285599e+05,  5.56890852e+05,  7.41042139e+05,  4.46445293e+05,\n",
       "        6.99979106e+05,  1.76247763e+05,  2.17310796e+05,  5.34399247e+05,\n",
       "        3.37135845e+05,  4.69665281e+05,  6.25506130e+05,  5.27214372e+05,\n",
       "        3.51114848e+05,  6.08512703e+05,  6.34596746e+05,  1.41655483e+06,\n",
       "        2.71534991e+05,  7.75419167e+05,  4.12647123e+05,  1.08407395e+05,\n",
       "        3.27715520e+05,  4.65205955e+05,  3.17513048e+05,  1.40926577e+06,\n",
       "        1.82971797e+05,  2.54890638e+05,  2.98866774e+05,  2.53830452e+05,\n",
       "        6.84890869e+05,  3.84867011e+05,  1.15215481e+05,  6.77705994e+05,\n",
       "        2.03645643e+05,  4.93945454e+05,  1.53630716e+06,  4.94812342e+05,\n",
       "        3.00264596e+05,  5.78973970e+05,  1.25492799e+05,  1.51828749e+06,\n",
       "        7.06445493e+05,  5.65323467e+05,  5.42682213e+05,  2.00067096e+05,\n",
       "        2.94813496e+05,  4.43651331e+05,  3.69395000e+04,  1.40990523e+06,\n",
       "        8.76553101e+04,  7.73071389e+05,  1.78998508e+05, -6.28070535e+04,\n",
       "        6.82755322e+05,  3.74715687e+05,  1.68602048e+05,  8.28197616e+05,\n",
       "        1.75786922e+05,  5.92705979e+05,  1.76247763e+05,  1.57111192e+06,\n",
       "       -1.51584920e+04,  1.16043215e+05,  1.41600518e+06,  7.39199963e+04,\n",
       "        1.47676870e+06,  4.76681401e+05,  4.29105832e+05,  4.98644882e+05,\n",
       "        4.65125967e+05,  8.81216042e+05,  4.81840414e+05,  1.69929776e+05,\n",
       "        4.34459394e+05,  5.24407357e+05,  5.13833468e+05,  6.82659726e+05,\n",
       "        3.71734497e+05,  1.55616591e+06,  3.29084083e+05,  3.81849364e+05,\n",
       "        7.70588776e+05,  4.21104933e+05,  2.84195586e+05,  1.71969955e+06,\n",
       "        5.10579913e+05, -8.36332956e+04,  2.32885068e+05, -1.08631957e+05,\n",
       "        1.46972892e+06,  3.67882406e+05,  3.29733083e+05,  2.70838686e+04,\n",
       "        2.07251971e+05,  4.75184792e+05,  3.36188969e+05,  6.17962287e+05,\n",
       "        1.51110596e+05,  6.74463903e+05,  7.17791645e+05,  4.12567135e+05,\n",
       "        3.12449624e+05,  5.83745246e+05,  6.08512703e+05,  5.52281445e+05,\n",
       "        6.39613217e+03,  4.67390677e+05,  1.63205741e+05,  3.40367453e+05,\n",
       "        3.98197386e+05,  5.59803955e+05,  3.64467628e+05,  1.31568401e+06,\n",
       "        1.65004667e+06,  5.45096570e+05,  8.19257238e+05,  1.35303547e+06,\n",
       "        6.45045070e+05,  5.10119073e+05,  3.81562927e+05,  2.49439539e+05,\n",
       "        4.19371157e+05,  9.94087567e+04,  5.06907488e+05,  5.10579913e+05,\n",
       "        6.41238099e+05, -4.66235405e+04,  1.93232567e+05,  4.72390830e+05,\n",
       "        2.49900379e+05,  4.19752010e+05,  4.79575705e+05, -3.53853881e+04,\n",
       "        5.31930048e+05, -7.04428740e+04,  4.02736699e+05,  6.11432640e+05,\n",
       "       -3.89778254e+04,  4.72913653e+05,  3.67193177e+05,  1.24349763e+06,\n",
       "       -2.63652998e+05,  4.41243747e+04,  3.95551824e+05,  4.99722613e+05,\n",
       "       -7.88742547e+02,  1.54780296e+06,  3.90983252e+05,  1.02134306e+05,\n",
       "        3.53661057e+05,  1.45032976e+06,  4.58400685e+05,  3.77970489e+05,\n",
       "        1.41372730e+06,  7.86416096e+05,  1.68725837e+06,  6.92535336e+05,\n",
       "        2.68479457e+05,  3.60088291e+05,  6.98034160e+05,  6.09939380e+05,\n",
       "        9.47993158e+04,  1.10592116e+05,  4.19752010e+05,  4.53630168e+05,\n",
       "        7.86635475e+05,  1.44782714e+05,  2.35991470e+05,  3.42532151e+05,\n",
       "        3.45718541e+05,  2.58602217e+05,  4.88945301e+05,  4.41386622e+05,\n",
       "        3.62273012e+05,  1.14056187e+06,  6.53574221e+05,  4.52640075e+05,\n",
       "        1.59102145e+06,  4.69407633e+05,  2.73719712e+05,  8.20035360e+05,\n",
       "        5.30553187e+05,  5.80123550e+05,  7.38316589e+05,  1.47008816e+06,\n",
       "       -1.32451290e+05,  6.23152365e+05,  1.40323389e+05,  4.18910317e+05,\n",
       "        4.23344447e+05,  6.65342059e+05,  5.80123550e+05,  5.62107818e+05,\n",
       "        3.71732491e+05, -9.82606921e+04,  5.84826769e+05,  8.19919683e+05,\n",
       "        3.32486037e+05,  4.73604599e+05,  5.62671489e+05,  3.12449624e+05,\n",
       "        4.23085552e+05, -3.16211830e+05,  5.24488822e+05,  3.82429814e+05,\n",
       "        1.45032976e+06,  4.95411688e+05,  5.44378083e+05,  6.41310666e+05,\n",
       "        3.25920144e+05,  5.06159741e+05,  5.24949663e+05,  5.65403455e+05,\n",
       "        4.07726958e+05,  1.59152464e+05,  2.13411325e+05,  3.83717142e+05,\n",
       "        9.72240356e+04,  6.19288768e+05,  3.56495853e+05,  6.32332037e+05,\n",
       "        2.05067250e+05,  5.49148601e+05,  5.11202366e+05,  5.52470680e+05,\n",
       "       -2.18776218e+05,  5.72588329e+05,  6.57479098e+05,  1.98256232e+05,\n",
       "        4.14004110e+05,  3.42674958e+04,  5.11936900e+05,  4.81840414e+05,\n",
       "        7.44634576e+05,  8.66084147e+03,  4.80442593e+05,  6.68255162e+05,\n",
       "        6.08972296e+05,  1.54133657e+06,  3.82741007e+05,  9.26847224e+04,\n",
       "        6.47161379e+05,  3.19093670e+05,  5.01130329e+05,  1.39927631e+06,\n",
       "        4.27844607e+05,  1.41805431e+06,  4.81840414e+05,  1.47352896e+04,\n",
       "        4.76831363e+05,  4.40777381e+05,  3.20974212e+03,  6.35924474e+05,\n",
       "        5.10140681e+05,  5.69784759e+05,  3.43949073e+04,  5.77047654e+05,\n",
       "        1.04660237e+06,  8.75468142e+05,  4.89025289e+05,  2.36938346e+05,\n",
       "        5.32134537e+05,  1.43419824e+06,  7.21642977e+05,  3.91092499e+05,\n",
       "        5.45096570e+05,  2.30305909e+04,  5.15039238e+05,  2.57235335e+05,\n",
       "        6.57479098e+05,  5.19949509e+05,  5.91648608e+05,  5.59803955e+05,\n",
       "        7.89027559e+05,  2.76445262e+05,  4.58021081e+05,  5.55423152e+05,\n",
       "        5.53718420e+05,  5.96254008e+04,  3.79323413e+05,  6.12196738e+04,\n",
       "        4.30529322e+05,  1.36236596e+05,  6.19696062e+05,  5.58833329e+05,\n",
       "        3.97478898e+05,  6.25147162e+05,  5.20913679e+05,  1.14239347e+05,\n",
       "        3.33056125e+05,  5.17303947e+05, -3.36052468e+05,  3.36188969e+05,\n",
       "        5.14092362e+05,  4.58021081e+05,  4.05462248e+05, -9.10208110e+03,\n",
       "        1.08206591e+06,  3.40187454e+05,  4.23344447e+05,  5.99631959e+05,\n",
       "       -1.16212984e+05,  1.17501966e+06,  4.67390677e+05,  6.77705994e+05,\n",
       "        4.65205955e+05,  3.46966281e+05,  1.68725837e+06,  1.64681348e+06,\n",
       "        4.19291169e+05,  1.54852144e+06, -8.48126234e+04,  7.79231221e+05,\n",
       "        3.93316373e+05,  6.56789989e+04,  7.90008534e+05,  5.00669489e+05,\n",
       "        5.67190776e+05,  3.95551824e+05,  6.68256410e+05,  6.32332037e+05,\n",
       "       -2.89666947e+05,  4.51747967e+05,  2.42195370e+05,  5.96254008e+04,\n",
       "        8.62630687e+05,  8.39396676e+04,  1.38058680e+05,  4.53172289e+05,\n",
       "        4.65844455e+05,  3.74378052e+05,  4.44260572e+05,  5.47222774e+05,\n",
       "        6.12196738e+04,  3.33543408e+05,  5.96039521e+05,  1.33820613e+06,\n",
       "       -3.04036696e+05,  1.40521470e+06,  5.47711626e+05,  4.23344447e+05,\n",
       "        5.09752179e+05,  6.92075744e+05,  2.77352985e+05,  2.30690452e+05,\n",
       "        2.57165242e+05,  6.00866988e+05,  2.28345755e+05,  3.13722559e+05,\n",
       "        1.42518005e+05,  1.45032976e+06,  3.42674958e+04,  6.85350462e+05,\n",
       "       -2.49596695e+04,  5.52137748e+05,  5.65064572e+05,  1.55475983e+06,\n",
       "        6.14260603e+05,  4.89025289e+05,  3.38453678e+05,  3.57362741e+05,\n",
       "        4.43571343e+05,  5.93272629e+05,  6.71699200e+05,  2.61247778e+05,\n",
       "        5.80123550e+05, -7.44413587e+04,  2.45441054e+05,  6.45045070e+05,\n",
       "        5.74634545e+05,  3.62312165e+05,  3.52057246e+04, -1.49005761e+05,\n",
       "        1.71860578e+06,  1.38058680e+05,  4.40925782e+05,  5.63138745e+05,\n",
       "        2.96330459e+05,  1.90156672e+05,  1.23688931e+05,  6.85350462e+05,\n",
       "        7.28637932e+05,  3.05184761e+05,  1.44375412e+06, -8.64385974e+04,\n",
       "        4.01258900e+04,  2.47643663e+04,  3.66351485e+05,  1.40010454e+06,\n",
       "        7.67967622e+04,  4.72310842e+05,  1.33138515e+05,  4.57560240e+05,\n",
       "        5.84693370e+05,  3.71732491e+05,  5.10119073e+05,  5.05470513e+05,\n",
       "        4.34201747e+05,  4.14380899e+05,  2.52625929e+05,  1.43821102e+05,\n",
       "        5.38397731e+05,  3.96649916e+05,  1.47008816e+06,  5.31930048e+05,\n",
       "        1.33459856e+06, -1.06367248e+05,  4.69665281e+05,  5.31563202e+05,\n",
       "        3.86172334e+05,  1.44782714e+05,  1.68797686e+06,  2.23886430e+05,\n",
       "        2.97999886e+05,  1.44782714e+05,  6.36384067e+05,  3.55697378e+05,\n",
       "        5.28843426e+05,  4.16159572e+05,  5.41584121e+05,  1.48915734e+06,\n",
       "        1.87971951e+05,  1.59152464e+05,  4.95030836e+05,  7.29465592e+05,\n",
       "        4.68718405e+05,  1.47008816e+06,  1.16638827e+06,  7.21791377e+05,\n",
       "        2.47742569e+05,  5.46043446e+05,  4.66876921e+05,  6.03592538e+05,\n",
       "        2.53750463e+05,  5.84232529e+05,  3.06646931e+05,  3.02154656e+04,\n",
       "        6.01327828e+05,  9.26834748e+04,  5.34399247e+05,  1.06132791e+05,\n",
       "        5.30275875e+05,  4.43571343e+05,  4.30937051e+05,  6.34596746e+05,\n",
       "        4.40925782e+05,  4.41386622e+05,  6.48857248e+05,  5.54975773e+05,\n",
       "        7.12768699e+05,  1.29783232e+06,  9.89087630e+04,  4.97077051e+05,\n",
       "        4.05382260e+05,  3.85383753e+05,  4.19752010e+05,  6.77705994e+05,\n",
       "        4.72390830e+05,  7.82823659e+05,  1.16043215e+05,  5.41584121e+05,\n",
       "        4.25187469e+05,  1.56792061e+06,  1.45470439e+06,  3.81562927e+05,\n",
       "        4.93484614e+05,  3.90794054e+05,  4.23344447e+05,  5.03315050e+05,\n",
       "        7.86635475e+05,  4.90759064e+05,  5.03315050e+05,  5.59803051e+05,\n",
       "        6.63336245e+05,  6.44833719e+05,  9.40112028e+04,  4.81776524e+04,\n",
       "        9.39576574e+04,  2.35991470e+05,  3.86592339e+05,  5.03315050e+05,\n",
       "        9.00391609e+04,  9.26847224e+04,  5.62816900e+05,  4.92537738e+05,\n",
       "        2.74899160e+04,  3.26540162e+05,  5.17700898e+04,  2.07658816e+04,\n",
       "        6.99260618e+05,  2.91533499e+05,  7.20354402e+05,  1.40408134e+05,\n",
       "        9.05035375e+05,  6.38539529e+05,  2.08275398e+05,  5.65403455e+05,\n",
       "        7.55411888e+05,  5.08342068e+05,  2.34093655e+05,  1.40394968e+06,\n",
       "        7.79395379e+03,  7.41042139e+05,  1.39406924e+06,  6.92535336e+05,\n",
       "       -9.10758174e+04,  2.52625929e+05,  6.67795570e+05,  7.90008534e+05,\n",
       "        5.84032641e+05,  2.75533476e+05,  4.38121925e+05,  6.01787421e+05,\n",
       "        4.68687898e+05,  4.95749323e+05,  5.90478192e+05,  1.60467271e+06,\n",
       "        1.04440776e+06,  4.26936884e+05,  2.07141477e+05, -1.81823733e+05,\n",
       "        4.62480406e+05,  2.71074151e+05,  9.67736346e+04,  5.91417404e+05,\n",
       "       -2.31949539e+04, -3.67131161e+04, -1.53084234e+05,  7.79949709e+05,\n",
       "        6.48857248e+05,  1.66337338e+05,  4.39707300e+05,  1.63783238e+06,\n",
       "        2.70994163e+05, -1.65189274e+05,  3.11908795e+05,  5.06907488e+05,\n",
       "        3.07449470e+05,  1.50433720e+05,  5.27134384e+05, -2.23433667e+04,\n",
       "        4.12647123e+05,  1.11052956e+05,  4.33660919e+05,  4.07982929e+05,\n",
       "        6.74980444e+05,  1.59152464e+05,  4.00542083e+05,  3.44726767e+05,\n",
       "        1.38058680e+05,  4.65585560e+05,  1.18950182e+06,  7.86635475e+05,\n",
       "        5.69784759e+05,  1.43349335e+06,  4.86760580e+05,  4.58021081e+05,\n",
       "        4.50756218e+05,  5.93344478e+05,  5.02486068e+05,  7.93219933e+05,\n",
       "        4.50756218e+05,  8.62630687e+05,  5.52767481e+05,  6.93503857e+05,\n",
       "        4.50266119e+05,  2.13976005e+05,  5.90470528e+05,  6.50403470e+05,\n",
       "        5.24488822e+05,  8.15154347e+05,  6.12196738e+04,  8.78342092e+05,\n",
       "        1.99606256e+05, -3.04567630e+05,  6.99260618e+05,  6.84890869e+05,\n",
       "        6.08512703e+05, -1.53545074e+05,  7.44634576e+05,  3.00412996e+05,\n",
       "        5.14810850e+05,  4.43651331e+05,  7.51819451e+05,  1.44170791e+06,\n",
       "        4.60285790e+05,  5.10579913e+05,  7.52786646e+04, -1.22080026e+05,\n",
       "        5.24488822e+05,  1.51596977e+06,  4.57247800e+05,  6.01327828e+05,\n",
       "        5.03315050e+05,  4.22096707e+05,  5.03395038e+05,  4.43571343e+05,\n",
       "        6.56501716e+05,  4.26936884e+05,  2.41873812e+05,  3.46747907e+04,\n",
       "        3.30900662e+05,  6.15236737e+05,  7.69320797e+05,  5.86958079e+05,\n",
       "        6.04459425e+05,  7.70718619e+05,  6.44833719e+05,  3.02539200e+05,\n",
       "        1.71969955e+06,  4.68718405e+05,  2.72282737e+05,  7.24258032e+05,\n",
       "        5.24949663e+05,  4.41386622e+05,  1.35544983e+06,  1.55570632e+06,\n",
       "        1.28609096e+05,  5.13373875e+05, -9.61052297e+04,  5.59952355e+05,\n",
       "        1.11481828e+06,  4.64580706e+05,  3.44670511e+05,  6.28739599e+05,\n",
       "        4.94276239e+05,  5.96407663e+05,  3.29870982e+05,  1.39435740e+06,\n",
       "        6.11432640e+05,  6.31463901e+05,  2.52625929e+05,  3.67273166e+05,\n",
       "        3.45638553e+05,  5.58827821e+05,  7.31442907e+05,  6.29453891e+05,\n",
       "        4.56014019e+05,  8.23545889e+05,  6.29199192e+05,  3.52823428e+05,\n",
       "        1.71969955e+06,  2.97539046e+05,  1.66337338e+05,  3.26256936e+05,\n",
       "        7.62447115e+05, -6.48050697e+03,  1.34587704e+06, -1.87274832e+05,\n",
       "        6.92224144e+05,  4.67554216e+05,  7.83149729e+04,  1.39197205e+06,\n",
       "        1.48605219e+06,  8.17240443e+05,  7.52235216e+05,  3.71732491e+05,\n",
       "       -3.45041212e+05,  6.39516911e+05,  3.29004094e+05,  1.06593631e+05,\n",
       "        3.54176351e+05,  1.55475983e+06,  7.42938706e+05,  2.81293376e+05,\n",
       "       -1.81823733e+05,  6.79033722e+05,  7.47704434e+05, -5.70890796e+03,\n",
       "        1.49633719e+06,  1.32157167e+06,  1.40926577e+06,  3.38411012e+05,\n",
       "        1.61878013e+05,  6.95668181e+05,  2.72484683e+05,  6.77705994e+05,\n",
       "        4.33740907e+05,  1.38995661e+05,  4.14380899e+05,  2.97546253e+04,\n",
       "        5.56591122e+05,  1.66337338e+05,  3.48131651e+05,  1.37597840e+05,\n",
       "        4.60455799e+05, -3.94386658e+04,  7.17332052e+05,  2.01394824e+05,\n",
       "        5.74206087e+05,  1.19635653e+05,  4.92537738e+05,  3.67323423e+05,\n",
       "        9.22124699e+05,  5.72166642e+05,  5.02379580e+05,  5.03315050e+05])"
      ]
     },
     "execution_count": 111,
     "metadata": {},
     "output_type": "execute_result"
    }
   ],
   "source": [
    "testing_data_prediction"
   ]
  },
  {
   "cell_type": "code",
   "execution_count": 112,
   "id": "f953eccc-2102-40e4-bc42-e59862b0a518",
   "metadata": {},
   "outputs": [
    {
     "data": {
      "text/plain": [
       "0.4998827106629774"
      ]
     },
     "execution_count": 112,
     "metadata": {},
     "output_type": "execute_result"
    }
   ],
   "source": [
    "# r square error\n",
    "error_score=metrics.r2_score(y_test,testing_data_prediction)\n",
    "error_score"
   ]
  },
  {
   "cell_type": "markdown",
   "id": "b0073a8d-350a-489d-8ad3-5bc535f31448",
   "metadata": {},
   "source": [
    "### visualization on test data"
   ]
  },
  {
   "cell_type": "code",
   "execution_count": 114,
   "id": "7230d4cf-aa0c-4280-97ea-650997743396",
   "metadata": {},
   "outputs": [
    {
     "data": {
      "image/png": "[encoded data removed]",
      "text/plain": [
       "<Figure size 640x480 with 1 Axes>"
      ]
     },
     "metadata": {},
     "output_type": "display_data"
    }
   ],
   "source": [
    "plt.scatter(y_test,testing_data_prediction)\n",
    "plt.xlabel(\"actual prices\")\n",
    "plt.ylabel(\"predicted price\")\n",
    "plt.title(\"actual prices vs pricted prices\")\n",
    "plt.show()"
   ]
  },
  {
   "cell_type": "code",
   "execution_count": null,
   "id": "dfe95391-a639-4f96-915f-cbb3a54a3ea4",
   "metadata": {},
   "outputs": [],
   "source": []
  }
 ],
 "metadata": {
  "kernelspec": {
   "display_name": "Python 3 (ipykernel)",
   "language": "python",
   "name": "python3"
  },
  "language_info": {
   "codemirror_mode": {
    "name": "ipython",
    "version": 3
   },
   "file_extension": ".py",
   "mimetype": "text/x-python",
   "name": "python",
   "nbconvert_exporter": "python",
   "pygments_lexer": "ipython3",
   "version": "3.11.7"
  }
 },
 "nbformat": 4,
 "nbformat_minor": 5
}
